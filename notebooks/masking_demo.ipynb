{
 "cells": [
  {
   "cell_type": "markdown",
   "metadata": {},
   "source": [
    "# Demo: Working with pixel quality masks\n",
    "\n",
    "This notebook demonstrates how to apply a pixel quality mask to remove poor-quality or undesired pixels from loaded data. \n",
    "\n",
    "The notebook demonstrates:\n",
    "\n",
    "1. How to load data with multiple pixel quality masks\n",
    "1. How to apply a given mask to loaded data\n",
    "1. How to apply morphological operations and custom nodata values to the mask"
   ]
  },
  {
   "cell_type": "markdown",
   "metadata": {},
   "source": [
    "## Set up\n",
    "The following cell should be uncommented and run if you installed the package in editable mode and are actively developing and testing modules.\n",
    "Otherwise, it can be left commented."
   ]
  },
  {
   "cell_type": "code",
   "execution_count": null,
   "metadata": {},
   "outputs": [],
   "source": [
    "# %load_ext autoreload\n",
    "# %autoreload 2"
   ]
  },
  {
   "cell_type": "markdown",
   "metadata": {},
   "source": [
    "### Enable logging\n",
    "\n",
    "This will allow you to see info and warning messages from the package."
   ]
  },
  {
   "cell_type": "code",
   "execution_count": null,
   "metadata": {},
   "outputs": [],
   "source": [
    "import logging\n",
    "import sys\n",
    "\n",
    "logging.basicConfig(\n",
    "    format=\"%(asctime)s | %(levelname)s : %(message)s\",\n",
    "    level=logging.INFO,\n",
    "    stream=sys.stdout,\n",
    ")"
   ]
  },
  {
   "cell_type": "markdown",
   "metadata": {},
   "source": [
    "### Import the relevant packages\n",
    "\n",
    "Masking functionality can be directly accessed from the `RasterBase` class and has been designed to operate on the contents of the `mask` attribute."
   ]
  },
  {
   "cell_type": "code",
   "execution_count": null,
   "metadata": {},
   "outputs": [],
   "source": [
    "import numpy as np\n",
    "from pprint import pprint\n",
    "\n",
    "from eo_insights.stac_configuration import de_australia_stac_config\n",
    "from eo_insights.raster_base import RasterBase, QueryParams, LoadParams"
   ]
  },
  {
   "cell_type": "markdown",
   "metadata": {},
   "source": [
    "## Set up and run query"
   ]
  },
  {
   "cell_type": "markdown",
   "metadata": {},
   "source": [
    "For more information on how to load data, see [load_demo.ipynb](load_demo.ipynb).\n",
    "This demonstration uses Digital Earth Australia's Sentinel-2 product, which comes with two pixel quality masks: `fmask` and `s2cloudless`."
   ]
  },
  {
   "cell_type": "code",
   "execution_count": null,
   "metadata": {},
   "outputs": [],
   "source": [
    "query_params = QueryParams(\n",
    "    bbox=(145.02, -37.46, 145.01, -37.45),\n",
    "    start_date=\"2020-11-01\",\n",
    "    end_date=\"2020-12-01\",\n",
    ")\n",
    "\n",
    "load_params = LoadParams(\n",
    "    crs=\"EPSG:3577\",\n",
    "    resolution=10,\n",
    "    bands=(\"red\", \"green\", \"blue\", \"nir\", \"fmask\", \"s2cloudless\"),\n",
    ")\n",
    "\n",
    "stac_raster = RasterBase.from_stac_query(\n",
    "    config=de_australia_stac_config,\n",
    "    collections=[\"ga_s2am_ard_3\", \"ga_s2bm_ard_3\"],\n",
    "    query_params=query_params,\n",
    "    load_params=load_params,\n",
    ")"
   ]
  },
  {
   "cell_type": "markdown",
   "metadata": {},
   "source": [
    "## Apply masking\n",
    "\n",
    "To start, it is useful to display an unmasked version of the data."
   ]
  },
  {
   "cell_type": "markdown",
   "metadata": {},
   "source": [
    "### Display an RGB plot for a subset of images"
   ]
  },
  {
   "cell_type": "code",
   "execution_count": null,
   "metadata": {},
   "outputs": [],
   "source": [
    "stac_raster.data.isel(time=slice(0, 3))[\n",
    "    [\"red\", \"green\", \"blue\"]\n",
    "].to_array().plot.imshow(col=\"time\", vmin=0, vmax=3000)"
   ]
  },
  {
   "cell_type": "markdown",
   "metadata": {},
   "source": [
    "### Apply fmask and create new masked variables\n",
    "\n",
    "When applying masks, you can choose between applying the masking in-place (where the original variables will be overwritten) or not.\n",
    "This applies to the contents of both `data` and `masks`.\n",
    "\n",
    "The next few cells will demonstrate how masking works when `inplace` is set to `False` for both `data` and `masks`."
   ]
  },
  {
   "cell_type": "code",
   "execution_count": null,
   "metadata": {},
   "outputs": [],
   "source": [
    "stac_raster.apply_mask(\"fmask\", data_inplace=False, mask_inplace=False)"
   ]
  },
  {
   "cell_type": "markdown",
   "metadata": {},
   "source": [
    "Running the above step produces two INFO messages:\n",
    "\n",
    "- Converting categorical mask to boolean\n",
    "- Selecting all pixels belonging to any of ['nodata', 'cloud', 'shadow', 'snow', 'water']\n",
    "\n",
    "The first message specifies that `fmask` has been listed as a categorical mask in the configuration.\n",
    "The second message specifies that the default configuration when applying `fmask` is to select all pixels belonging to any of `['nodata', 'cloud', 'shadow', 'snow', 'water']`. \n",
    "This can be confirmed by looking at the configuration settings for `fmask`:"
   ]
  },
  {
   "cell_type": "code",
   "execution_count": null,
   "metadata": {},
   "outputs": [],
   "source": [
    "pprint(de_australia_stac_config.collections[\"ga_s2am_ard_3\"].masks[\"fmask\"])"
   ]
  },
  {
   "cell_type": "markdown",
   "metadata": {},
   "source": [
    "When applying a mask, the first step is to identify which pixels should be excluded, and which should be kept.\n",
    "This is a boolean version of the categorical mask, where the selected values are `True` and the remaining values are `False`. \n",
    "This mask is then inverted when it is applied to the data.\n",
    "\n",
    "By default, masked pixels are replaced with the band's default nodata value.\n",
    "\n",
    "When `mask_inplace` is set to `False`, a boolean version of the mask is saved in a new variable, `fmask_bool` as shown below: "
   ]
  },
  {
   "cell_type": "code",
   "execution_count": null,
   "metadata": {},
   "outputs": [],
   "source": [
    "stac_raster.masks"
   ]
  },
  {
   "cell_type": "markdown",
   "metadata": {},
   "source": [
    "When `data_inplace` is set to `False`, masked versions of each band are saved to `bandname_masked`, as shown below: "
   ]
  },
  {
   "cell_type": "code",
   "execution_count": null,
   "metadata": {},
   "outputs": [],
   "source": [
    "stac_raster.data"
   ]
  },
  {
   "cell_type": "markdown",
   "metadata": {},
   "source": [
    "Having applied the mask, the masked bands can now be displayed."
   ]
  },
  {
   "cell_type": "code",
   "execution_count": null,
   "metadata": {},
   "outputs": [],
   "source": [
    "stac_raster.data.isel(time=slice(0, 3))[\n",
    "    [\"red_masked\", \"green_masked\", \"blue_masked\"]\n",
    "].to_array().plot.imshow(col=\"time\", vmin=0, vmax=3000)"
   ]
  },
  {
   "cell_type": "markdown",
   "metadata": {},
   "source": [
    "### Apply s2cloudless in place\n",
    "\n",
    "The next few cells will demonstrate how masking works when `data_inplace` and `mask_inplace` are set to `True`, which is configured to be the default behaviour. \n",
    "As such, the two arguments can be excluded from the `apply_mask()` function call."
   ]
  },
  {
   "cell_type": "code",
   "execution_count": null,
   "metadata": {},
   "outputs": [],
   "source": [
    "stac_raster.apply_mask(\"s2cloudless\")"
   ]
  },
  {
   "cell_type": "markdown",
   "metadata": {},
   "source": [
    "Again, it is possible to view the configuration settings for this mask:"
   ]
  },
  {
   "cell_type": "code",
   "execution_count": null,
   "metadata": {},
   "outputs": [],
   "source": [
    "pprint(de_australia_stac_config.collections[\"ga_s2am_ard_3\"].masks[\"s2cloudless\"])"
   ]
  },
  {
   "cell_type": "markdown",
   "metadata": {},
   "source": [
    "Because the in-place approached was used, the original bands and masks have been overwritten. This can be seen by displaying the bands and the masks:"
   ]
  },
  {
   "cell_type": "code",
   "execution_count": null,
   "metadata": {},
   "outputs": [],
   "source": [
    "stac_raster.data.isel(time=slice(0, 3))[\n",
    "    [\"red\", \"green\", \"blue\"]\n",
    "].to_array().plot.imshow(col=\"time\", vmin=0, vmax=3000)"
   ]
  },
  {
   "cell_type": "markdown",
   "metadata": {},
   "source": [
    "When viewing the `masks` attribute, it is possible to see that applying the masking in-place converts the mask from its original type to a boolean:"
   ]
  },
  {
   "cell_type": "code",
   "execution_count": null,
   "metadata": {},
   "outputs": [],
   "source": [
    "stac_raster.masks"
   ]
  },
  {
   "cell_type": "markdown",
   "metadata": {},
   "source": [
    "### Additional functionality: custom nodata and morphological operations\n",
    "\n",
    "The next few cells demonstrate how to apply morphological operations (`opening`, `closing`, `dilation` and `erosion`) to the mask, as well as how to specify a custom `nodata` value.\n",
    "\n",
    "Morphological operations are supplied in a list of tuples, with each tuple containing the name of the operation, and the radius to use for the disk kernel.\n",
    "\n",
    "For this step, we load a clean version of the data (to avoid using the data that has already been modified in-place during the last step.)"
   ]
  },
  {
   "cell_type": "code",
   "execution_count": null,
   "metadata": {},
   "outputs": [],
   "source": [
    "stac_raster_2 = RasterBase.from_stac_query(\n",
    "    config=de_australia_stac_config,\n",
    "    collections=[\"ga_s2am_ard_3\", \"ga_s2bm_ard_3\"],\n",
    "    query_params=query_params,\n",
    "    load_params=load_params,\n",
    ")"
   ]
  },
  {
   "cell_type": "code",
   "execution_count": null,
   "metadata": {},
   "outputs": [],
   "source": [
    "stac_raster_2.apply_mask(\n",
    "    \"fmask\",\n",
    "    mask_filters=[(\"opening\", 3), (\"dilation\", 5)],\n",
    "    nodata=np.nan,\n",
    "    data_inplace=False,\n",
    "    mask_inplace=False,\n",
    ")"
   ]
  },
  {
   "cell_type": "markdown",
   "metadata": {},
   "source": [
    "The effect of the morphological operations and use of `NaN` as the no data value are evident when plotting the masked data:"
   ]
  },
  {
   "cell_type": "code",
   "execution_count": null,
   "metadata": {},
   "outputs": [],
   "source": [
    "stac_raster_2.data.isel(time=slice(0, 3))[\n",
    "    [\"red_masked\", \"green_masked\", \"blue_masked\"]\n",
    "].to_array().plot.imshow(col=\"time\", vmin=0, vmax=3000)"
   ]
  }
 ],
 "metadata": {
  "kernelspec": {
   "display_name": "remotesensingtools",
   "language": "python",
   "name": "python3"
  },
  "language_info": {
   "codemirror_mode": {
    "name": "ipython",
    "version": 3
   },
   "file_extension": ".py",
   "mimetype": "text/x-python",
   "name": "python",
   "nbconvert_exporter": "python",
   "pygments_lexer": "ipython3",
   "version": "3.11.0"
  }
 },
 "nbformat": 4,
 "nbformat_minor": 2
}
