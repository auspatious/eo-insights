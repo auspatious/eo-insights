{
 "cells": [
  {
   "cell_type": "markdown",
   "metadata": {},
   "source": [
    "# Working with cloud masks"
   ]
  },
  {
   "cell_type": "code",
   "execution_count": null,
   "metadata": {},
   "outputs": [],
   "source": [
    "%load_ext autoreload\n",
    "%autoreload 2"
   ]
  },
  {
   "cell_type": "code",
   "execution_count": null,
   "metadata": {},
   "outputs": [],
   "source": [
    "import logging\n",
    "\n",
    "logging.basicConfig(level=logging.INFO)"
   ]
  },
  {
   "cell_type": "code",
   "execution_count": null,
   "metadata": {},
   "outputs": [],
   "source": [
    "from remote_sensing_tools.stac_configuration import de_australia_stac_config\n",
    "from remote_sensing_tools.raster_base import RasterBase, QueryParams, LoadParams"
   ]
  },
  {
   "cell_type": "code",
   "execution_count": null,
   "metadata": {},
   "outputs": [],
   "source": [
    "config = de_australia_stac_config\n",
    "\n",
    "config.list_collections()"
   ]
  },
  {
   "cell_type": "code",
   "execution_count": null,
   "metadata": {},
   "outputs": [],
   "source": [
    "query_params = QueryParams(\n",
    "    bbox=(145.02, -37.46, 145.01, -37.45),\n",
    "    start_date=\"2020-11-01\",\n",
    "    end_date=\"2020-12-01\",\n",
    ")\n",
    "\n",
    "load_params = LoadParams(\n",
    "    crs=\"EPSG:3577\",\n",
    "    resolution=10,\n",
    "    bands=(\"red\", \"green\", \"blue\", \"nir\", \"fmask\", \"s2cloudless\"),\n",
    ")\n",
    "\n",
    "stac_raster = RasterBase.from_stac_query(\n",
    "    config=config,\n",
    "    collections=[\"ga_s2am_ard_3\", \"ga_s2bm_ard_3\"],\n",
    "    query_params=query_params,\n",
    "    load_params=load_params,\n",
    ")"
   ]
  },
  {
   "cell_type": "code",
   "execution_count": null,
   "metadata": {},
   "outputs": [],
   "source": [
    "stac_raster.data.isel(time=slice(0, 3))[\n",
    "    [\"red\", \"green\", \"blue\"]\n",
    "].to_array().plot.imshow(col=\"time\", vmin=0, vmax=3000)"
   ]
  },
  {
   "cell_type": "code",
   "execution_count": null,
   "metadata": {},
   "outputs": [],
   "source": [
    "stac_raster.apply_mask(\"fmask\", data_inplace=False, mask_inplace=False)\n",
    "stac_raster.data.isel(time=slice(0, 3))[\n",
    "    [\"red_masked\", \"green_masked\", \"blue_masked\"]\n",
    "].to_array().plot.imshow(col=\"time\", vmin=0, vmax=3000)"
   ]
  },
  {
   "cell_type": "code",
   "execution_count": null,
   "metadata": {},
   "outputs": [],
   "source": [
    "stac_raster.apply_mask(\"s2cloudless\", data_inplace=False, mask_inplace=False)\n",
    "stac_raster.data.isel(time=slice(0, 3))[\n",
    "    [\"red_masked\", \"green_masked\", \"blue_masked\"]\n",
    "].to_array().plot.imshow(col=\"time\", vmin=0, vmax=3000)"
   ]
  }
 ],
 "metadata": {
  "kernelspec": {
   "display_name": "remotesensingtools",
   "language": "python",
   "name": "python3"
  },
  "language_info": {
   "codemirror_mode": {
    "name": "ipython",
    "version": 3
   },
   "file_extension": ".py",
   "mimetype": "text/x-python",
   "name": "python",
   "nbconvert_exporter": "python",
   "pygments_lexer": "ipython3",
   "version": "3.9.19"
  }
 },
 "nbformat": 4,
 "nbformat_minor": 2
}
