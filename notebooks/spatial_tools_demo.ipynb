{
 "cells": [
  {
   "cell_type": "code",
   "execution_count": null,
   "metadata": {},
   "outputs": [],
   "source": [
    "%load_ext autoreload\n",
    "%autoreload 2"
   ]
  },
  {
   "cell_type": "code",
   "execution_count": null,
   "metadata": {},
   "outputs": [],
   "source": [
    "import logging\n",
    "\n",
    "logging.basicConfig(level=logging.INFO)"
   ]
  },
  {
   "cell_type": "code",
   "execution_count": null,
   "metadata": {},
   "outputs": [],
   "source": [
    "import matplotlib.pyplot as plt\n",
    "\n",
    "from eo_data_tools.stac_configuration import de_australia_stac_config\n",
    "from eo_data_tools.spatial import xr_rasterize, xr_vectorize\n",
    "from eo_data_tools.raster_base import RasterBase, QueryParams, LoadParams"
   ]
  },
  {
   "cell_type": "code",
   "execution_count": null,
   "metadata": {},
   "outputs": [],
   "source": [
    "de_australia_stac_config.list_collections()"
   ]
  },
  {
   "cell_type": "code",
   "execution_count": null,
   "metadata": {},
   "outputs": [],
   "source": [
    "query_params = QueryParams(\n",
    "    bbox=(142.1, -32.6, 142.80, -32.1),\n",
    "    start_date=\"2000\",\n",
    "    end_date=\"2000\",\n",
    ")\n",
    "\n",
    "load_params = LoadParams(\n",
    "    crs=\"EPSG:3577\",\n",
    "    resolution=10,\n",
    "    bands=(\"frequency\"),\n",
    ")\n",
    "\n",
    "stac_raster = RasterBase.from_stac_query(\n",
    "    config=de_australia_stac_config,\n",
    "    collections=[\"ga_ls_wo_fq_cyear_3\"],\n",
    "    query_params=query_params,\n",
    "    load_params=load_params,\n",
    ")"
   ]
  },
  {
   "cell_type": "code",
   "execution_count": null,
   "metadata": {},
   "outputs": [],
   "source": [
    "# Select pixels that are classified as water > 25 % of the time\n",
    "water_bodies = stac_raster.data.frequency > 0.25\n",
    "\n",
    "# Plot the data\n",
    "water_bodies.plot(size=5)"
   ]
  },
  {
   "cell_type": "code",
   "execution_count": null,
   "metadata": {},
   "outputs": [],
   "source": [
    "gdf = xr_vectorize(da=water_bodies, mask=water_bodies.data == 1)\n",
    "\n",
    "gdf.plot(figsize=(6, 6))"
   ]
  },
  {
   "cell_type": "code",
   "execution_count": null,
   "metadata": {},
   "outputs": [],
   "source": [
    "water_bodies_again = xr_rasterize(gdf=gdf, da=water_bodies)\n",
    "\n",
    "fig, axes = plt.subplots(1, 2, figsize=(12, 4))\n",
    "water_bodies.plot(ax=axes[0])\n",
    "water_bodies_again.plot(ax=axes[1])\n",
    "axes[0].set_title(\"Original waterbodies\")\n",
    "axes[1].set_title(\"Rasterized waterbodies\")"
   ]
  }
 ],
 "metadata": {
  "kernelspec": {
   "display_name": "eodatatools",
   "language": "python",
   "name": "python3"
  },
  "language_info": {
   "codemirror_mode": {
    "name": "ipython",
    "version": 3
   },
   "file_extension": ".py",
   "mimetype": "text/x-python",
   "name": "python",
   "nbconvert_exporter": "python",
   "pygments_lexer": "ipython3",
   "version": "3.11.0"
  }
 },
 "nbformat": 4,
 "nbformat_minor": 2
}
