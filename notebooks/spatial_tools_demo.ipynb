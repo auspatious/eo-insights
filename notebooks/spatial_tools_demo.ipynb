{
 "cells": [
  {
   "cell_type": "markdown",
   "metadata": {},
   "source": [
    "# Demo: Spatial tools\n",
    "\n",
    "This notebook demonstrates how to vectorize raster datasets and rasterize vector datasets.\n",
    "It has been adapted from a [Digital Earth Australia notebook](https://knowledge.dea.ga.gov.au/notebooks/How_to_guides/Rasterize_vectorize/) that demonstrates the same functionality.\n",
    "\n",
    "This notebook demonstrates\n",
    "\n",
    "1. How to load water observations data\n",
    "1. How to apply a threshold to identify regularly occurring water bodies\n",
    "1. How to convert the raster water bodies into a vector dataset\n",
    "1. How to convert the vector water bodies back to a raster dataset"
   ]
  },
  {
   "cell_type": "markdown",
   "metadata": {},
   "source": [
    "## Set up\n",
    "The following cell should be uncommented and run if you installed the package in editable mode and are actively developing and testing modules.\n",
    "Otherwise, it can be left commented."
   ]
  },
  {
   "cell_type": "code",
   "execution_count": null,
   "metadata": {},
   "outputs": [],
   "source": [
    "# %load_ext autoreload\n",
    "# %autoreload 2"
   ]
  },
  {
   "cell_type": "markdown",
   "metadata": {},
   "source": [
    "### Enable logging\n",
    "\n",
    "This will allow you to see info and warning messages from the package."
   ]
  },
  {
   "cell_type": "code",
   "execution_count": null,
   "metadata": {},
   "outputs": [],
   "source": [
    "import logging\n",
    "import sys\n",
    "\n",
    "logging.basicConfig(\n",
    "    format=\"%(asctime)s | %(levelname)s : %(message)s\",\n",
    "    level=logging.INFO,\n",
    "    stream=sys.stdout,\n",
    ")"
   ]
  },
  {
   "cell_type": "markdown",
   "metadata": {},
   "source": [
    "### Import the relevant packages\n",
    "\n",
    "The `xr_rasterize` and `xr_vectorize` functions are loaded from the `spatial_tools` module.\n",
    "\n",
    "This demo uses the Digital Earth Australia Water Observations product, and hence imports the `de_australia_stac_config`.\n",
    "For more information on available configurations, see [configuration_demo.ipynb](configuration_demo.ipynb)"
   ]
  },
  {
   "cell_type": "code",
   "execution_count": null,
   "metadata": {},
   "outputs": [],
   "source": [
    "import matplotlib.pyplot as plt\n",
    "\n",
    "from eo_insights.raster_base import RasterBase, QueryParams, LoadParams\n",
    "from eo_insights.spatial import xr_rasterize, xr_vectorize\n",
    "from eo_insights.stac_configuration import de_australia_stac_config"
   ]
  },
  {
   "cell_type": "markdown",
   "metadata": {},
   "source": [
    "You can check the available collections using the `.list_collections()` method."
   ]
  },
  {
   "cell_type": "code",
   "execution_count": null,
   "metadata": {},
   "outputs": [],
   "source": [
    "de_australia_stac_config.list_collections()"
   ]
  },
  {
   "cell_type": "markdown",
   "metadata": {},
   "source": [
    "## Load data\n",
    "### Set up query and load parameters\n",
    "\n",
    "Date range and bounding box are set as part of the `QueryParams` class.\n",
    "CRS, resolution, and desired bands are set as part of the `LoadParams` class.\n",
    "\n",
    "It is worth noting that this is a summary product, and has no associated pixel quality masks.\n",
    "To learn more about masking, see [masking_demo.ipynb](masking_demo.ipynb). "
   ]
  },
  {
   "cell_type": "code",
   "execution_count": null,
   "metadata": {},
   "outputs": [],
   "source": [
    "query_params = QueryParams(\n",
    "    bbox=(142.1, -32.6, 142.80, -32.1),\n",
    "    start_date=\"2000\",\n",
    "    end_date=\"2000\",\n",
    ")\n",
    "\n",
    "load_params = LoadParams(\n",
    "    crs=\"EPSG:3577\",\n",
    "    resolution=10,\n",
    "    bands=(\"frequency\"),\n",
    ")\n",
    "\n",
    "stac_raster = RasterBase.from_stac_query(\n",
    "    config=de_australia_stac_config,\n",
    "    collections=[\"ga_ls_wo_fq_cyear_3\"],\n",
    "    query_params=query_params,\n",
    "    load_params=load_params,\n",
    ")"
   ]
  },
  {
   "cell_type": "markdown",
   "metadata": {},
   "source": [
    "## Apply a frequency threshold to get water bodies\n",
    "\n",
    "The next step selects all pixels that were recorded as wet 25% of the time."
   ]
  },
  {
   "cell_type": "code",
   "execution_count": null,
   "metadata": {},
   "outputs": [],
   "source": [
    "# Select pixels that are classified as water > 25 % of the time\n",
    "water_bodies = stac_raster.data.frequency > 0.25\n",
    "\n",
    "# Plot the data\n",
    "water_bodies.plot(size=5)"
   ]
  },
  {
   "cell_type": "markdown",
   "metadata": {},
   "source": [
    "## Convert raster water bodies to a vector dataset\n",
    "\n",
    "This function takes the array of waterbodies, as well as an argument called `mask` which specifies which items should be vectorized.\n",
    "The function returns a geopandas GeoDataFrame."
   ]
  },
  {
   "cell_type": "code",
   "execution_count": null,
   "metadata": {},
   "outputs": [],
   "source": [
    "gdf = xr_vectorize(da=water_bodies, mask=water_bodies.data == 1)\n",
    "\n",
    "gdf.explore()"
   ]
  },
  {
   "cell_type": "markdown",
   "metadata": {},
   "source": [
    "## Convert vector water bodies to a raster dataset\n",
    "\n",
    "This function takes the GeoDataFame of water bodies, as well as an argument called `da` which is an Xarray DataArray that acts as a template for the raster output, specifying the expected dimensions, coordinates and attributes.\n",
    "The function returns an Xarray DataArray."
   ]
  },
  {
   "cell_type": "code",
   "execution_count": null,
   "metadata": {},
   "outputs": [],
   "source": [
    "water_bodies_again = xr_rasterize(gdf=gdf, da=water_bodies)\n",
    "\n",
    "fig, axes = plt.subplots(1, 2, figsize=(12, 4))\n",
    "water_bodies.plot(ax=axes[0])\n",
    "water_bodies_again.plot(ax=axes[1])\n",
    "axes[0].set_title(\"Original waterbodies\")\n",
    "axes[1].set_title(\"Rasterized waterbodies\")"
   ]
  }
 ],
 "metadata": {
  "kernelspec": {
   "display_name": "eodatatools",
   "language": "python",
   "name": "python3"
  },
  "language_info": {
   "codemirror_mode": {
    "name": "ipython",
    "version": 3
   },
   "file_extension": ".py",
   "mimetype": "text/x-python",
   "name": "python",
   "nbconvert_exporter": "python",
   "pygments_lexer": "ipython3",
   "version": "3.11.0"
  }
 },
 "nbformat": 4,
 "nbformat_minor": 2
}
