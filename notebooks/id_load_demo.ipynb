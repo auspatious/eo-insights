{
 "cells": [
  {
   "cell_type": "code",
   "execution_count": null,
   "metadata": {},
   "outputs": [],
   "source": [
    "%load_ext autoreload\n",
    "%autoreload 2"
   ]
  },
  {
   "cell_type": "code",
   "execution_count": null,
   "metadata": {},
   "outputs": [],
   "source": [
    "import matplotlib.pyplot as plt\n",
    "from remote_sensing_tools.raster_base import RasterBase, QueryParams, LoadParams\n",
    "from remote_sensing_tools.stac_configuration import de_australia_stac_config\n",
    "from remote_sensing_tools.band_indices import calculate_indices"
   ]
  },
  {
   "cell_type": "markdown",
   "metadata": {},
   "source": [
    "## Load data\n",
    "### Set up query and load parameters"
   ]
  },
  {
   "cell_type": "code",
   "execution_count": null,
   "metadata": {},
   "outputs": [],
   "source": [
    "# set up AOI and time period\n",
    "aus_query_params = QueryParams(\n",
    "    bbox=(\n",
    "        144.97,\n",
    "        -37.47,\n",
    "        144.95,\n",
    "        -37.45,\n",
    "    ),\n",
    "    start_date=\"2020-01-01\",\n",
    "    end_date=\"2020-06-30\",\n",
    ")\n",
    "# bands and res. used in .id for medians of MSAVI, BAEI, BSI\n",
    "aus_load_params = LoadParams(\n",
    "    crs=\"EPSG:3577\",\n",
    "    resolution=10,\n",
    "    bands=(\"blue\", \"green\", \"red\", \"nir\", \"swir_1\", \"swir_2\", \"fmask\"),\n",
    ")"
   ]
  },
  {
   "cell_type": "markdown",
   "metadata": {},
   "source": [
    "### Set up data configuration"
   ]
  },
  {
   "cell_type": "code",
   "execution_count": null,
   "metadata": {},
   "outputs": [],
   "source": [
    "deaus_config = de_australia_stac_config"
   ]
  },
  {
   "cell_type": "markdown",
   "metadata": {},
   "source": [
    "### Load using class method"
   ]
  },
  {
   "cell_type": "code",
   "execution_count": null,
   "metadata": {},
   "outputs": [],
   "source": [
    "# query data from DE Aus\n",
    "deaus_stac_raster = RasterBase.from_stac_query(\n",
    "    config=deaus_config,\n",
    "    collections=[\"ga_s2am_ard_3\"],\n",
    "    query_params=aus_query_params,\n",
    "    load_params=aus_load_params,\n",
    ")\n",
    "\n",
    "deaus_stac_data = deaus_stac_raster.data\n",
    "deaus_stac_data"
   ]
  },
  {
   "cell_type": "markdown",
   "metadata": {},
   "source": [
    "## Calculate indicies using EO for .ID method"
   ]
  },
  {
   "cell_type": "markdown",
   "metadata": {},
   "source": [
    "In this section, we calculate MSAVI, BAEI, BSI and NDWI indices for our AOI using the `calculate_indices` function from the `band_indices.py` in the Remote Sensing Tools folder. Once these indices are calculated, the median values for MSAVI, BAEI and BSI are calcluated and then the maximum values are calculated for NDWI. This analysis uses the same method used in the EO for .ID `analyse_aoi.py`."
   ]
  },
  {
   "cell_type": "code",
   "execution_count": null,
   "metadata": {},
   "outputs": [],
   "source": [
    "data_indices = calculate_indices(deaus_stac_data, [\"ndwi\", \"bsi\", \"msavi\", \"baei\"])\n",
    "data_indices"
   ]
  },
  {
   "cell_type": "code",
   "execution_count": null,
   "metadata": {},
   "outputs": [],
   "source": [
    "# calc. medians\n",
    "ds_medians = (\n",
    "    data_indices[[\"msavi\", \"baei\", \"bsi\"]]\n",
    "    .median(dim=\"time\")\n",
    "    .assign_coords(time=aus_query_params.end_date)\n",
    ").compute()\n",
    "ds_medians"
   ]
  },
  {
   "cell_type": "code",
   "execution_count": null,
   "metadata": {},
   "outputs": [],
   "source": [
    "# calc. the max NDWI\n",
    "ds_ndwi_max = (\n",
    "    data_indices[\"ndwi\"].max(dim=\"time\").assign_coords(time=aus_query_params.end_date)\n",
    ")"
   ]
  },
  {
   "cell_type": "code",
   "execution_count": null,
   "metadata": {},
   "outputs": [],
   "source": [
    "# combine medians and max into single xarray\n",
    "ds_combined = ds_medians.merge(ds_ndwi_max)"
   ]
  },
  {
   "cell_type": "code",
   "execution_count": null,
   "metadata": {},
   "outputs": [],
   "source": [
    "# mask out all zero pixels\n",
    "ds_masked_nonzero = ds_combined.where(\n",
    "    (ds_combined[\"msavi\"] != 0)\n",
    "    | (ds_combined[\"baei\"] != 0)\n",
    "    | (ds_combined[\"bsi\"] != 0)\n",
    "    | (ds_combined[\"ndwi\"] != 0)\n",
    ").compute()\n",
    "ds_masked_nonzero"
   ]
  },
  {
   "cell_type": "markdown",
   "metadata": {},
   "source": [
    "### Plot indicies "
   ]
  },
  {
   "cell_type": "code",
   "execution_count": null,
   "metadata": {},
   "outputs": [],
   "source": [
    "fig, axs = plt.subplots(2, 2, figsize=(10, 10))\n",
    "\n",
    "ds_masked_nonzero[\"ndwi\"].plot.imshow(ax=axs[0, 0])\n",
    "axs[0, 0].set_title(\"NDWI\")\n",
    "axs[0, 0].set_aspect(\"equal\", adjustable=\"box\")\n",
    "\n",
    "ds_masked_nonzero[\"bsi\"].plot.imshow(ax=axs[0, 1])\n",
    "axs[0, 1].set_title(\"BSI\")\n",
    "axs[0, 1].set_aspect(\"equal\", adjustable=\"box\")\n",
    "\n",
    "ds_masked_nonzero[\"msavi\"].plot.imshow(ax=axs[1, 0])\n",
    "axs[1, 0].set_title(\"MSAVI\")\n",
    "axs[1, 0].set_aspect(\"equal\", adjustable=\"box\")\n",
    "\n",
    "ds_masked_nonzero[\"baei\"].plot.imshow(ax=axs[1, 1])\n",
    "axs[1, 1].set_title(\"BAEI\")\n",
    "axs[1, 1].set_aspect(\"equal\", adjustable=\"box\")\n",
    "\n",
    "plt.tight_layout()\n",
    "plt.show()"
   ]
  }
 ],
 "metadata": {
  "kernelspec": {
   "display_name": "remotesensingtools",
   "language": "python",
   "name": "python3"
  },
  "language_info": {
   "codemirror_mode": {
    "name": "ipython",
    "version": 3
   },
   "file_extension": ".py",
   "mimetype": "text/x-python",
   "name": "python",
   "nbconvert_exporter": "python",
   "pygments_lexer": "ipython3",
   "version": "3.11.0"
  }
 },
 "nbformat": 4,
 "nbformat_minor": 2
}
