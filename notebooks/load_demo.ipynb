{
 "cells": [
  {
   "cell_type": "code",
   "execution_count": null,
   "metadata": {},
   "outputs": [],
   "source": [
    "%load_ext autoreload\n",
    "%autoreload 2"
   ]
  },
  {
   "cell_type": "code",
   "execution_count": null,
   "metadata": {},
   "outputs": [],
   "source": [
    "from remote_sensing_tools.config import de_africa_config\n",
    "from remote_sensing_tools.data import EOData, LoadInfo"
   ]
  },
  {
   "cell_type": "markdown",
   "metadata": {},
   "source": [
    "## Set up area of interest and time to load"
   ]
  },
  {
   "cell_type": "code",
   "execution_count": null,
   "metadata": {},
   "outputs": [],
   "source": [
    "# Set a bounding box\n",
    "# [xmin, ymin, xmax, ymax] in latitude and longitude\n",
    "bbox = (37.76, 12.49, 37.77, 12.50)\n",
    "\n",
    "# Set geospatial information for output\n",
    "output_crs = \"EPSG:6933\"\n",
    "output_resolution = 20\n",
    "\n",
    "# Set a start and end date\n",
    "start_date = \"2020-11-01\"\n",
    "end_date = \"2020-12-01\""
   ]
  },
  {
   "cell_type": "markdown",
   "metadata": {},
   "source": [
    "## Set up data configuration"
   ]
  },
  {
   "cell_type": "code",
   "execution_count": null,
   "metadata": {},
   "outputs": [],
   "source": [
    "# Set product\n",
    "product = \"Sentinel 2\"\n",
    "\n",
    "# Set bands\n",
    "bands = (\"red\", \"green\", \"blue\", \"nir\", \"mask\")"
   ]
  },
  {
   "cell_type": "markdown",
   "metadata": {},
   "source": [
    "## Add configuration info for loading"
   ]
  },
  {
   "cell_type": "code",
   "execution_count": null,
   "metadata": {},
   "outputs": [],
   "source": [
    "load_info = LoadInfo(\n",
    "    bbox=bbox,\n",
    "    crs=output_crs,\n",
    "    bands=bands,\n",
    "    resolution=output_resolution,\n",
    "    start_date=start_date,\n",
    "    end_date=end_date,\n",
    ")"
   ]
  },
  {
   "cell_type": "markdown",
   "metadata": {},
   "source": [
    "## Load using class method"
   ]
  },
  {
   "cell_type": "code",
   "execution_count": null,
   "metadata": {},
   "outputs": [],
   "source": [
    "eo_data_config = EOData(load_info)\n",
    "\n",
    "ds = eo_data_config.load_from_stac(\n",
    "    config_file=\"../dataset_configuration/digital_earth_africa_stac/digital_earth_africa_stac.toml\",\n",
    "    product=\"Sentinel 2\",\n",
    ")\n",
    "\n",
    "ds"
   ]
  },
  {
   "cell_type": "markdown",
   "metadata": {},
   "source": [
    "## Demonstrate how to access various required metadata"
   ]
  },
  {
   "cell_type": "code",
   "execution_count": null,
   "metadata": {},
   "outputs": [],
   "source": [
    "# CRS\n",
    "epsg_number = ds.odc.crs.epsg\n",
    "print(f\"ESPG number: {epsg_number}\")\n",
    "crs = ds.odc.crs.to_wkt()\n",
    "print(f\"WKT CRS: {crs} \\n\")\n",
    "\n",
    "# Bounds\n",
    "extent = ds.odc.geobox.extent.boundingbox.bbox\n",
    "print(f\"Data CRS Bounds: {extent}\")\n",
    "bounds = ds.odc.map_bounds()\n",
    "print(f\"Lat Lon CRS Bounds: {bounds} \\n\")\n",
    "\n",
    "# Resolution\n",
    "resolution = ds.odc.geobox.resolution\n",
    "print(f\"Resolution: {resolution}\")\n",
    "print(f\"Resolution in x: {resolution.x}\")\n",
    "print(f\"Resolution in y: {resolution.y} \\n\")\n",
    "\n",
    "# Shape\n",
    "height = ds.odc.geobox.height\n",
    "width = ds.odc.geobox.width\n",
    "print(f\"Shape: {height, width} \\n\")\n",
    "\n",
    "# Transform\n",
    "transform = ds.odc.geobox.transform\n",
    "print(f\"Transform: {transform} \\n\")\n",
    "\n",
    "# Band level info\n",
    "blue_nodata_value = ds.blue.nodata\n",
    "print(f\"Blue nodata value: {blue_nodata_value}\")\n",
    "blue_type = ds.blue.dtype\n",
    "print(f\"Blue type: {blue_type}\")"
   ]
  },
  {
   "cell_type": "code",
   "execution_count": null,
   "metadata": {},
   "outputs": [],
   "source": []
  }
 ],
 "metadata": {
  "kernelspec": {
   "display_name": "remotesensingtools",
   "language": "python",
   "name": "python3"
  },
  "language_info": {
   "codemirror_mode": {
    "name": "ipython",
    "version": 3
   },
   "file_extension": ".py",
   "mimetype": "text/x-python",
   "name": "python",
   "nbconvert_exporter": "python",
   "pygments_lexer": "ipython3",
   "version": "3.9.19"
  }
 },
 "nbformat": 4,
 "nbformat_minor": 2
}
