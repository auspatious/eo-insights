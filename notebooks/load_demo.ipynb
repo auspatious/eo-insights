{
 "cells": [
  {
   "cell_type": "markdown",
   "metadata": {},
   "source": [
    "# Demo: Loading data\n",
    "\n",
    "This notebook demonstrates how to load data from one of the configured STAC catalogs available in this package.\n",
    "\n",
    "The notebook demonstrates\n",
    "\n",
    "1. Importing the relevant modules and classes\n",
    "2. How to use the `QueryParams` and `LoadParams` classes to specify loading information\n",
    "3. How to instantiate an instance of the `RasterBase` class from a STAC query\n",
    "4. The contents of the `data` and `masks` attributes in the instantiated `RasterBase`\n",
    "5. How to access various items of metadata from the instantiated `RasterBase`\n",
    "\n",
    "## Why the RasterBase class?\n",
    "The idea with this class is to keep Earth observation bands separated from masking bands so that they can be handled independently, but used in combination as needed.\n",
    "\n",
    "At this time, the class can only be instantiated by loading from a STAC catalog, but the design has been chosen to allow for additional loading methods in future (e.g. from_file, from_dc). \n",
    "The benefit to this approach is that the structure used to hold and manage EO data is the same irrespective of its source."
   ]
  },
  {
   "cell_type": "markdown",
   "metadata": {},
   "source": [
    "## Set up\n",
    "The following cell should be uncommented and run if you installed the package in editable mode and are actively developing and testing modules.\n",
    "Otherwise, it can be left commented."
   ]
  },
  {
   "cell_type": "code",
   "execution_count": null,
   "metadata": {},
   "outputs": [],
   "source": [
    "# %load_ext autoreload\n",
    "# %autoreload 2"
   ]
  },
  {
   "cell_type": "markdown",
   "metadata": {},
   "source": [
    "### Enable logging\n",
    "\n",
    "This will allow you to see info and warning messages from the package."
   ]
  },
  {
   "cell_type": "code",
   "execution_count": null,
   "metadata": {},
   "outputs": [],
   "source": [
    "import logging\n",
    "import sys\n",
    "\n",
    "logging.basicConfig(\n",
    "    format=\"%(asctime)s | %(levelname)s : %(message)s\",\n",
    "    level=logging.INFO,\n",
    "    stream=sys.stdout,\n",
    ")"
   ]
  },
  {
   "cell_type": "markdown",
   "metadata": {},
   "source": [
    "### Import the relevant packages\n",
    "\n",
    "To load data, this demo imports the three required classes from the `rasterbase` module:\n",
    "\n",
    "- `RasterBase` - contains data and masks after loading\n",
    "- `QueryParams` - contains metadata that specifies the area and date range to load data for\n",
    "- `LoadParams` - contains metadata that specifies the details of the data load, such as CRS, resolution, and bands\n",
    "\n",
    "This demo uses the Digital Earth Africa Sentinel-2 product, and hence imports the `de_africa_stac_config`.\n",
    "For more information on available configurations, see [configuration_demo.ipynb](configuration_demo.ipynb)"
   ]
  },
  {
   "cell_type": "code",
   "execution_count": null,
   "metadata": {},
   "outputs": [],
   "source": [
    "from eo_insights.raster_base import RasterBase, QueryParams, LoadParams\n",
    "from eo_insights.stac_configuration import de_africa_stac_config"
   ]
  },
  {
   "cell_type": "markdown",
   "metadata": {},
   "source": [
    "## Set up query and load params\n",
    "\n",
    "These classes have been designed to separate the parameters that specify the area of interest and the date range from those that are related to the loading settings for a given product. \n",
    "This would allow a single `QueryParams` instance to be used in multiple loads, each having a unique `LoadParams` instance as needed."
   ]
  },
  {
   "cell_type": "code",
   "execution_count": null,
   "metadata": {},
   "outputs": [],
   "source": [
    "query_params = QueryParams(\n",
    "    bbox=(37.76, 12.49, 37.77, 12.50),\n",
    "    start_date=\"2020-11-01\",\n",
    "    end_date=\"2020-12-01\",\n",
    ")\n",
    "\n",
    "load_params = LoadParams(\n",
    "    crs=\"EPSG:6933\", resolution=20, bands=(\"red\", \"green\", \"blue\", \"nir\", \"scl\")\n",
    ")"
   ]
  },
  {
   "cell_type": "markdown",
   "metadata": {},
   "source": [
    "## Load using RasterBase\n",
    "\n",
    "To load from a STAC catalog, `RasterBase` has a `from_stac_query()` method, which runs the following steps:\n",
    "\n",
    "- Connects to the desired catalog using `pystac_client`\n",
    "- Searches the catalog for the  STAC items that match the query and load parameters \n",
    "- Runs `odc.stac.load()` using the relevant configuration object to provide useful metadata\n",
    "- Identifies whether any of the loaded bands are masks and moves them to a separate attribute\n",
    "\n",
    "The result is an instantiated instance of `RasterBase` which has two attributes: `data` and `masks`\n"
   ]
  },
  {
   "cell_type": "code",
   "execution_count": null,
   "metadata": {},
   "outputs": [],
   "source": [
    "stac_raster = RasterBase.from_stac_query(\n",
    "    config=de_africa_stac_config,\n",
    "    collections=[\"s2_l2a\"],\n",
    "    query_params=query_params,\n",
    "    load_params=load_params,\n",
    ")"
   ]
  },
  {
   "cell_type": "markdown",
   "metadata": {},
   "source": [
    "### Inspect attributes of RasterBase\n",
    "\n",
    "Both the `data` and `masks` attributes are Xarray Datasets."
   ]
  },
  {
   "cell_type": "code",
   "execution_count": null,
   "metadata": {},
   "outputs": [],
   "source": [
    "stac_raster.data"
   ]
  },
  {
   "cell_type": "code",
   "execution_count": null,
   "metadata": {},
   "outputs": [],
   "source": [
    "stac_raster.masks"
   ]
  },
  {
   "cell_type": "markdown",
   "metadata": {},
   "source": [
    "## Accessing metadata from RasterBase\n",
    "\n",
    "This section demonstrates how to use `RasterBase` in conjunction with `odc.geo` to access various items of metadata from the loaded data.\n",
    "\n",
    "Since `data` and `masks` are Xarray Datasets, both can be extended with the `.odc` accessor from `odc.geo`. \n",
    "For more information, see the [odc-geo documentation](https://odc-geo.readthedocs.io/en/latest/intro-xr.html)."
   ]
  },
  {
   "cell_type": "code",
   "execution_count": null,
   "metadata": {},
   "outputs": [],
   "source": [
    "# CRS\n",
    "epsg_number = stac_raster.data.odc.crs.epsg\n",
    "print(f\"ESPG number: {epsg_number}\")\n",
    "crs = stac_raster.data.odc.crs.to_wkt()\n",
    "print(f\"WKT CRS: {crs} \\n\")\n",
    "\n",
    "# Bounds\n",
    "extent = stac_raster.data.odc.geobox.extent.boundingbox.bbox\n",
    "print(f\"Data CRS Bounds: {extent}\")\n",
    "bounds = stac_raster.data.odc.map_bounds()\n",
    "print(f\"Lat Lon CRS Bounds: {bounds} \\n\")\n",
    "\n",
    "# Resolution\n",
    "resolution = stac_raster.data.odc.geobox.resolution\n",
    "print(f\"Resolution: {resolution}\")\n",
    "print(f\"Resolution in x: {resolution.x}\")\n",
    "print(f\"Resolution in y: {resolution.y} \\n\")\n",
    "\n",
    "# Shape\n",
    "height = stac_raster.data.odc.geobox.height\n",
    "width = stac_raster.data.odc.geobox.width\n",
    "print(f\"Shape: {height, width} \\n\")\n",
    "\n",
    "# Transform\n",
    "transform = stac_raster.data.odc.geobox.transform\n",
    "print(f\"Transform: {transform} \\n\")\n",
    "\n",
    "# Band level info\n",
    "blue_nodata_value = stac_raster.data.blue.nodata\n",
    "print(f\"Blue nodata value: {blue_nodata_value}\")\n",
    "blue_type = stac_raster.data.blue.dtype\n",
    "print(f\"Blue type: {blue_type}\")"
   ]
  }
 ],
 "metadata": {
  "kernelspec": {
   "display_name": "remotesensingtools",
   "language": "python",
   "name": "python3"
  },
  "language_info": {
   "codemirror_mode": {
    "name": "ipython",
    "version": 3
   },
   "file_extension": ".py",
   "mimetype": "text/x-python",
   "name": "python",
   "nbconvert_exporter": "python",
   "pygments_lexer": "ipython3",
   "version": "3.9.19"
  }
 },
 "nbformat": 4,
 "nbformat_minor": 2
}
