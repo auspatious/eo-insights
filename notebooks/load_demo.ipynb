{
 "cells": [
  {
   "cell_type": "code",
   "execution_count": null,
   "metadata": {},
   "outputs": [],
   "source": [
    "%load_ext autoreload\n",
    "%autoreload 2"
   ]
  },
  {
   "cell_type": "code",
   "execution_count": null,
   "metadata": {},
   "outputs": [],
   "source": [
    "from remote_sensing_tools.config import de_africa_config\n",
    "from remote_sensing_tools.data import EOData, LoadInfo"
   ]
  },
  {
   "cell_type": "markdown",
   "metadata": {},
   "source": [
    "## Set up area of interest and time to load"
   ]
  },
  {
   "cell_type": "code",
   "execution_count": null,
   "metadata": {},
   "outputs": [],
   "source": [
    "# Set a bounding box\n",
    "# [xmin, ymin, xmax, ymax] in latitude and longitude\n",
    "bbox = (37.76, 12.49, 37.77, 12.50)\n",
    "\n",
    "# Set geospatial information for output\n",
    "output_crs = \"EPSG:6933\"\n",
    "output_resolution = 20\n",
    "\n",
    "# Set a start and end date\n",
    "start_date = \"2020-11-01\"\n",
    "end_date = \"2020-12-01\""
   ]
  },
  {
   "cell_type": "markdown",
   "metadata": {},
   "source": [
    "## Set up STAC configuration"
   ]
  },
  {
   "cell_type": "code",
   "execution_count": null,
   "metadata": {},
   "outputs": [],
   "source": [
    "# Open the stac catalogue\n",
    "catalog_url = \"https://explorer.digitalearth.africa/stac\"\n",
    "\n",
    "# Set the STAC collections\n",
    "collections = [\"s2_l2a\"]\n",
    "\n",
    "# Set geospatial information\n",
    "bands = (\"red\", \"green\", \"blue\", \"nir\")\n",
    "\n",
    "# STAC config dictionary\n",
    "config = de_africa_config\n",
    "\n",
    "# AWS endpoint\n",
    "aws_endpoint = \"s3.af-south-1.amazonaws.com\""
   ]
  },
  {
   "cell_type": "markdown",
   "metadata": {},
   "source": [
    "## Add configuration info for loading"
   ]
  },
  {
   "cell_type": "code",
   "execution_count": null,
   "metadata": {},
   "outputs": [],
   "source": [
    "load_info = LoadInfo(\n",
    "    bbox=bbox,\n",
    "    crs=output_crs,\n",
    "    bands=bands,\n",
    "    resolution=output_resolution,\n",
    "    start_date=start_date,\n",
    "    end_date=end_date,\n",
    ")"
   ]
  },
  {
   "cell_type": "markdown",
   "metadata": {},
   "source": [
    "## Load using class method"
   ]
  },
  {
   "cell_type": "code",
   "execution_count": null,
   "metadata": {},
   "outputs": [],
   "source": [
    "eo_data_config = EOData(load_info)\n",
    "\n",
    "ds = eo_data_config.load_from_stac(\n",
    "    catalog_url=catalog_url,\n",
    "    collections=collections,\n",
    "    stac_config=config,\n",
    "    aws_endpoint=aws_endpoint,\n",
    ")\n",
    "\n",
    "ds"
   ]
  }
 ],
 "metadata": {
  "kernelspec": {
   "display_name": "remotesensingtools",
   "language": "python",
   "name": "python3"
  },
  "language_info": {
   "codemirror_mode": {
    "name": "ipython",
    "version": 3
   },
   "file_extension": ".py",
   "mimetype": "text/x-python",
   "name": "python",
   "nbconvert_exporter": "python",
   "pygments_lexer": "ipython3",
   "version": "3.9.19"
  }
 },
 "nbformat": 4,
 "nbformat_minor": 2
}
