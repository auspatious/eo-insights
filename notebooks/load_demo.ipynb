{
 "cells": [
  {
   "cell_type": "code",
   "execution_count": null,
   "metadata": {},
   "outputs": [],
   "source": [
    "%load_ext autoreload\n",
    "%autoreload 2"
   ]
  },
  {
   "cell_type": "code",
   "execution_count": null,
   "metadata": {},
   "outputs": [],
   "source": [
    "import pathlib\n",
    "from remote_sensing_tools.raster_base import RasterBase, QueryParams, LoadParams\n",
    "from remote_sensing_tools.stac_configuration import de_africa_stac_config"
   ]
  },
  {
   "cell_type": "markdown",
   "metadata": {},
   "source": [
    "## Set up query and load params"
   ]
  },
  {
   "cell_type": "code",
   "execution_count": null,
   "metadata": {},
   "outputs": [],
   "source": [
    "query_params = QueryParams(\n",
    "    bbox=(37.76, 12.49, 37.77, 12.50),\n",
    "    start_date=\"2020-11-01\",\n",
    "    end_date=\"2020-12-01\",\n",
    ")\n",
    "\n",
    "load_params = LoadParams(\n",
    "    crs=\"EPSG:6933\", resolution=20, bands=(\"red\", \"green\", \"blue\", \"nir\", \"scl\")\n",
    ")"
   ]
  },
  {
   "cell_type": "markdown",
   "metadata": {},
   "source": [
    "## Load using class method"
   ]
  },
  {
   "cell_type": "code",
   "execution_count": null,
   "metadata": {},
   "outputs": [],
   "source": [
    "stac_raster = RasterBase.from_stac_query(\n",
    "    config=de_africa_stac_config,\n",
    "    collections=[\"s2_l2a\"],\n",
    "    query_params=query_params,\n",
    "    load_params=load_params,\n",
    ")"
   ]
  },
  {
   "cell_type": "markdown",
   "metadata": {},
   "source": [
    "## Inspect attributes of raster"
   ]
  },
  {
   "cell_type": "code",
   "execution_count": null,
   "metadata": {},
   "outputs": [],
   "source": [
    "stac_raster.data"
   ]
  },
  {
   "cell_type": "code",
   "execution_count": null,
   "metadata": {},
   "outputs": [],
   "source": [
    "stac_raster.masks"
   ]
  },
  {
   "cell_type": "markdown",
   "metadata": {},
   "source": [
    "## Demonstrate how to access various required metadata"
   ]
  },
  {
   "cell_type": "code",
   "execution_count": null,
   "metadata": {},
   "outputs": [],
   "source": [
    "# CRS\n",
    "epsg_number = stac_raster.data.odc.crs.epsg\n",
    "print(f\"ESPG number: {epsg_number}\")\n",
    "crs = stac_raster.data.odc.crs.to_wkt()\n",
    "print(f\"WKT CRS: {crs} \\n\")\n",
    "\n",
    "# Bounds\n",
    "extent = stac_raster.data.odc.geobox.extent.boundingbox.bbox\n",
    "print(f\"Data CRS Bounds: {extent}\")\n",
    "bounds = stac_raster.data.odc.map_bounds()\n",
    "print(f\"Lat Lon CRS Bounds: {bounds} \\n\")\n",
    "\n",
    "# Resolution\n",
    "resolution = stac_raster.data.odc.geobox.resolution\n",
    "print(f\"Resolution: {resolution}\")\n",
    "print(f\"Resolution in x: {resolution.x}\")\n",
    "print(f\"Resolution in y: {resolution.y} \\n\")\n",
    "\n",
    "# Shape\n",
    "height = stac_raster.data.odc.geobox.height\n",
    "width = stac_raster.data.odc.geobox.width\n",
    "print(f\"Shape: {height, width} \\n\")\n",
    "\n",
    "# Transform\n",
    "transform = stac_raster.data.odc.geobox.transform\n",
    "print(f\"Transform: {transform} \\n\")\n",
    "\n",
    "# Band level info\n",
    "blue_nodata_value = stac_raster.data.blue.nodata\n",
    "print(f\"Blue nodata value: {blue_nodata_value}\")\n",
    "blue_type = stac_raster.data.blue.dtype\n",
    "print(f\"Blue type: {blue_type}\")"
   ]
  }
 ],
 "metadata": {
  "kernelspec": {
   "display_name": "remotesensingtools",
   "language": "python",
   "name": "python3"
  },
  "language_info": {
   "codemirror_mode": {
    "name": "ipython",
    "version": 3
   },
   "file_extension": ".py",
   "mimetype": "text/x-python",
   "name": "python",
   "nbconvert_exporter": "python",
   "pygments_lexer": "ipython3",
   "version": "3.9.19"
  }
 },
 "nbformat": 4,
 "nbformat_minor": 2
}
