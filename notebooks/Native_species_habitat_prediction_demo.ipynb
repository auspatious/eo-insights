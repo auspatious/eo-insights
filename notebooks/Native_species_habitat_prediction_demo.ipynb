{
 "cells": [
  {
   "cell_type": "markdown",
   "metadata": {},
   "source": [
    "# Predict habitat for native species"
   ]
  },
  {
   "cell_type": "markdown",
   "metadata": {},
   "source": [
    "## Set up notebook"
   ]
  },
  {
   "cell_type": "code",
   "execution_count": null,
   "metadata": {},
   "outputs": [],
   "source": [
    "%load_ext autoreload\n",
    "%autoreload 2"
   ]
  },
  {
   "cell_type": "code",
   "execution_count": null,
   "metadata": {},
   "outputs": [],
   "source": [
    "import logging\n",
    "\n",
    "logging.basicConfig(level=logging.INFO)"
   ]
  },
  {
   "cell_type": "markdown",
   "metadata": {},
   "source": [
    "## Import configuration and modules"
   ]
  },
  {
   "cell_type": "code",
   "execution_count": null,
   "metadata": {},
   "outputs": [],
   "source": [
    "from eo_insights.stac_configuration import de_australia_stac_config\n",
    "from eo_insights.raster_base import RasterBase, QueryParams, LoadParams\n",
    "from eo_insights.band_indices import calculate_indices\n",
    "from rasterstats import zonal_stats\n",
    "import geopandas as gpd\n",
    "import pandas as pd\n",
    "from sklearn.ensemble import RandomForestClassifier\n",
    "import xarray as xr\n",
    "from pathlib import Path\n",
    "import numpy as np\n",
    "from skimage.segmentation import quickshift,slic\n",
    "from sklearn.preprocessing import StandardScaler,MinMaxScaler\n",
    "import fiona\n",
    "from shapely.geometry import shape"
   ]
  },
  {
   "cell_type": "markdown",
   "metadata": {},
   "source": [
    "## Load training data and define study area"
   ]
  },
  {
   "cell_type": "code",
   "execution_count": null,
   "metadata": {},
   "outputs": [],
   "source": [
    "# Filtered Frog presence points from ALA, with pseodo absence points pre-generated\n",
    "# relative path of training data\n",
    "path_fauna_data=\"notebooks/native_species_data/records-2024-02-13-south-east-coastal-plain-southern-bell-frog_filtered_subset.geojson\"\n",
    "# load data\n",
    "cwd = Path().resolve()\n",
    "gpd_fauna=gpd.read_file(cwd.joinpath(path_fauna_data)).to_crs(\"EPSG:4326\")\n",
    "bbox=gpd_fauna.total_bounds\n",
    "gpd_fauna"
   ]
  },
  {
   "cell_type": "markdown",
   "metadata": {},
   "source": [
    "## Query satellite products"
   ]
  },
  {
   "cell_type": "markdown",
   "metadata": {},
   "source": [
    "### Get DEA configuration and list collections"
   ]
  },
  {
   "cell_type": "code",
   "execution_count": null,
   "metadata": {},
   "outputs": [],
   "source": [
    "config = de_australia_stac_config\n",
    "config.list_collections()"
   ]
  },
  {
   "cell_type": "markdown",
   "metadata": {},
   "source": [
    "### Load DEA products:\n",
    "* Landsat 8 & 9 yearly geomedian"
   ]
  },
  {
   "cell_type": "code",
   "execution_count": null,
   "metadata": {},
   "outputs": [],
   "source": [
    "query_params_ls = QueryParams(\n",
    "    bbox=bbox,\n",
    "    start_date=\"2023-01-01\",\n",
    "    end_date=\"2023-12-31\",\n",
    ")\n",
    "\n",
    "# Landsat 8 & 9 yearly geomedian: load only geomedian spectral bands for now\n",
    "params_ls_8_9_gm = LoadParams(\n",
    "    crs=\"EPSG:3577\",\n",
    "    resolution=30,\n",
    "    bands=(\"nbart_blue\", \"nbart_green\", \"nbart_red\", \"nbart_nir\", \"nbart_swir_1\", \"nbart_swir_2\"),\n",
    ")\n",
    "raster_ls_8_9_gm = RasterBase.from_stac_query(\n",
    "    config=config,\n",
    "    collections=[\"ga_ls8cls9c_gm_cyear_3\"],\n",
    "    query_params=query_params_ls,\n",
    "    load_params=params_ls_8_9_gm,\n",
    ")\n",
    "\n",
    "# calculate indices\n",
    "ds_ls_8_9_gm = calculate_indices(raster_ls_8_9_gm.data, [\"ndvi\",\"ndwi\"])\n",
    "\n",
    "ds_ls_8_9_gm= ds_ls_8_9_gm.isel(time=0)\n",
    "ds_ls_8_9_gm"
   ]
  },
  {
   "cell_type": "markdown",
   "metadata": {},
   "source": [
    "* Sentinel-2 Barest Earth and BSI"
   ]
  },
  {
   "cell_type": "code",
   "execution_count": null,
   "metadata": {},
   "outputs": [],
   "source": [
    "query_params_s2_be = QueryParams(\n",
    "    bbox=bbox,\n",
    "    start_date=\"2018-01-01\",\n",
    "    end_date=\"2018-12-31\",\n",
    ")\n",
    "\n",
    "# load only bands that are used for BSI calculation\n",
    "params_s2_be = LoadParams(\n",
    "    crs=\"EPSG:3577\",\n",
    "    resolution=30,\n",
    "    bands=(\"blue\", \"red\", \"nir\", \"swir_1\"),\n",
    ")\n",
    "raster_s2_be = RasterBase.from_stac_query(\n",
    "    config=config,\n",
    "    collections=[\"s2_barest_earth\"],\n",
    "    query_params=query_params_s2_be,\n",
    "    load_params=params_s2_be,\n",
    ")\n",
    "\n",
    "# calculate BSI\n",
    "ds_s2_be_bsi = calculate_indices(raster_s2_be.data, [\"bsi\"])\n",
    "\n",
    "# dropping original bands\n",
    "ds_s2_be_bsi = ds_s2_be_bsi[[\"bsi\"]].isel(time=0)\n",
    "ds_s2_be_bsi"
   ]
  },
  {
   "cell_type": "markdown",
   "metadata": {},
   "source": [
    "* SRTM DEM"
   ]
  },
  {
   "cell_type": "code",
   "execution_count": null,
   "metadata": {},
   "outputs": [],
   "source": [
    "query_params_dem = QueryParams(\n",
    "    bbox=bbox,\n",
    "    start_date=\"2014-01-01\",\n",
    "    end_date=\"2014-12-31\",\n",
    ")\n",
    "\n",
    "params_dem = LoadParams(\n",
    "    crs=\"EPSG:3577\",\n",
    "    resolution=30,\n",
    "    bands=(\"dem\"),\n",
    ")\n",
    "raster_dem= RasterBase.from_stac_query(\n",
    "    config=config,\n",
    "    collections=[\"ga_srtm_dem1sv1_0\"],\n",
    "    query_params=query_params_dem,\n",
    "    load_params=params_dem,\n",
    ")\n",
    "ds_dem = raster_dem.data.isel(time=0)\n",
    "ds_dem"
   ]
  },
  {
   "cell_type": "markdown",
   "metadata": {},
   "source": [
    "* Multi-scale Topographic Position Index (TPI)"
   ]
  },
  {
   "cell_type": "code",
   "execution_count": null,
   "metadata": {},
   "outputs": [],
   "source": [
    "query_params_tpi = QueryParams(\n",
    "    bbox=bbox,\n",
    "    start_date=\"2018-01-01\",\n",
    "    end_date=\"2018-12-31\",\n",
    ")\n",
    "\n",
    "params_tpi = LoadParams(\n",
    "    crs=\"EPSG:3577\",\n",
    "    resolution=30,\n",
    "    bands=(\"regional\", \"intermediate\", \"local\"),\n",
    ")\n",
    "raster_tpi= RasterBase.from_stac_query(\n",
    "    config=config,\n",
    "    collections=[\"multi_scale_topographic_position\"],\n",
    "    query_params=query_params_tpi,\n",
    "    load_params=params_tpi,\n",
    ")\n",
    "ds_tip = raster_tpi.data.isel(time=0)\n",
    "ds_tip"
   ]
  },
  {
   "cell_type": "markdown",
   "metadata": {},
   "source": [
    "* Weathering Intensity"
   ]
  },
  {
   "cell_type": "code",
   "execution_count": null,
   "metadata": {},
   "outputs": [],
   "source": [
    "query_params_weathering = QueryParams(\n",
    "    bbox=bbox,\n",
    "    start_date=\"2018-01-01\",\n",
    "    end_date=\"2018-12-31\",\n",
    ")\n",
    "\n",
    "params_weathering = LoadParams(\n",
    "    crs=\"EPSG:3577\",\n",
    "    resolution=30,\n",
    "    bands=(\"intensity\"),\n",
    ")\n",
    "raster_weathering= RasterBase.from_stac_query(\n",
    "    config=config,\n",
    "    collections=[\"weathering_intensity\"],\n",
    "    query_params=query_params_weathering,\n",
    "    load_params=params_weathering,\n",
    ")\n",
    "ds_weathering = raster_weathering.data.isel(time=0)\n",
    "ds_weathering"
   ]
  },
  {
   "cell_type": "markdown",
   "metadata": {},
   "source": [
    "### Stack all product bands"
   ]
  },
  {
   "cell_type": "code",
   "execution_count": null,
   "metadata": {},
   "outputs": [],
   "source": [
    "ds_all = xr.merge([ds_ls_8_9_gm, ds_s2_be_bsi, ds_dem, ds_tip, ds_weathering], compat='override')\n",
    "ds_all"
   ]
  },
  {
   "cell_type": "markdown",
   "metadata": {},
   "source": [
    "## Object-based classification for native species habitat prediction"
   ]
  },
  {
   "cell_type": "code",
   "execution_count": null,
   "metadata": {},
   "outputs": [],
   "source": [
    "\n"
   ]
  },
  {
   "cell_type": "markdown",
   "metadata": {},
   "source": [
    "### Image segmentation"
   ]
  },
  {
   "cell_type": "code",
   "execution_count": null,
   "metadata": {},
   "outputs": [],
   "source": [
    "arr_data=np.moveaxis(ds_all[['ndvi','ndwi','bsi']].to_array().to_numpy(),0,-1)\n",
    "\n",
    "# normalisation\n",
    "rows,columns,n_band=arr_data.shape\n",
    "arr_data=np.reshape(arr_data,(rows*columns,n_band))\n",
    "# arr_data = MinMaxScaler ().fit_transform(arr_data)\n",
    "arr_data = StandardScaler ().fit_transform(arr_data)\n",
    "\n",
    "# Do segmentation - slic or quickshift\n",
    "arr_data=np.reshape(arr_data,(rows,columns,n_band))\n",
    "# segments = slic(arr_data,n_segments=500,compactness=compactness,slic_zero=False)\n",
    "# segments = quickshift(arr_data,ratio=0.8,kernel_size=2,max_dist=10,sigma=0,convert2lab=False)\n",
    "segments = quickshift(arr_data,ratio=1.0,kernel_size=3,max_dist=10,sigma=0,convert2lab=False)\n",
    "segments = xr.DataArray(segments, coords=ds_all.coords, dims=ds_all.dims,\n",
    "                    attrs=ds_all.attrs).astype(np.int16)"
   ]
  },
  {
   "cell_type": "markdown",
   "metadata": {},
   "source": [
    "### Object-level features calculation"
   ]
  },
  {
   "cell_type": "code",
   "execution_count": null,
   "metadata": {},
   "outputs": [],
   "source": [
    "output_path=\"native_species_data/segmentation.geojson\"\n",
    "gdf=xr_vectorize(segments,output_path=output_path,connectivity=8)\n",
    "# Calculate zonal statistics for all bands\n",
    "affine=ds_all.rio.transform()\n",
    "var_names=list(ds_all.keys())\n",
    "list_stats=['median', 'std', 'percentile_10','percentile_90']\n",
    "# list_stats=['median', 'std']\n",
    "with fiona.open(output_path) as zones:\n",
    "    gpd_stats=None\n",
    "    # var=var_names[0]\n",
    "    for var in var_names:\n",
    "        # print('calculating zonal statistics for',var)\n",
    "        band=ds_all[var].to_numpy()\n",
    "        zonestats=zonal_stats(zones,band,stats=list_stats,all_touched=True,\n",
    "                        geojson_out=True,affine=segments.rio.transform())\n",
    "        # convert to geopandas dataframe\n",
    "        pd_stats=pd.DataFrame.from_dict(zonestats)\n",
    "        geoms = [shape(j) for j in pd_stats['geometry']]\n",
    "        gpd_stats=gpd.GeoDataFrame(pd_stats,geometry=geoms,crs=\"EPSG:3577\")\n",
    "        # unpack statistics to be added as new attributes - band name as prefix \n",
    "        for stat in list_stats:\n",
    "            stat_var=var+'_'+stat\n",
    "            gpd_stats[stat_var]=[gpd_stats['properties'][j][stat] for j in range(len(gpd_stats))]\n",
    "        # remove redundant attributes\n",
    "        gpd_stats=gpd_stats.drop(['properties','type'],axis=1)\n",
    "        if gpd_stats is None:\n",
    "            gpd_stats=gpd_stats.copy()\n",
    "        else:\n",
    "            gpd_stats=pd.concat([gpd_stats,gpd_stats.drop(['id','geometry'],axis=1)],axis=1)\n",
    "    gpd_stats.to_file(\"native_species_data/segmentation_stats.geojson\")"
   ]
  },
  {
   "cell_type": "markdown",
   "metadata": {},
   "source": [
    "### Model training"
   ]
  },
  {
   "cell_type": "markdown",
   "metadata": {},
   "source": [
    "#### Get presence samples"
   ]
  },
  {
   "cell_type": "code",
   "execution_count": null,
   "metadata": {},
   "outputs": [],
   "source": []
  },
  {
   "cell_type": "markdown",
   "metadata": {},
   "source": [
    "#### Generate pesudo-absence samples"
   ]
  },
  {
   "cell_type": "code",
   "execution_count": null,
   "metadata": {},
   "outputs": [],
   "source": []
  },
  {
   "cell_type": "markdown",
   "metadata": {},
   "source": [
    "### Prediction"
   ]
  }
 ],
 "metadata": {
  "kernelspec": {
   "display_name": "remotesensingtools",
   "language": "python",
   "name": "python3"
  },
  "language_info": {
   "codemirror_mode": {
    "name": "ipython",
    "version": 3
   },
   "file_extension": ".py",
   "mimetype": "text/x-python",
   "name": "python",
   "nbconvert_exporter": "python",
   "pygments_lexer": "ipython3",
   "version": "3.11.0"
  }
 },
 "nbformat": 4,
 "nbformat_minor": 2
}
