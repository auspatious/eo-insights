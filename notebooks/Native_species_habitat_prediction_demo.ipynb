{
 "cells": [
  {
   "cell_type": "markdown",
   "metadata": {},
   "source": [
    "# Predict habitat for native species"
   ]
  },
  {
   "cell_type": "markdown",
   "metadata": {},
   "source": [
    "## Set up notebook"
   ]
  },
  {
   "cell_type": "code",
   "execution_count": null,
   "metadata": {},
   "outputs": [],
   "source": [
    "%load_ext autoreload\n",
    "%autoreload 2"
   ]
  },
  {
   "cell_type": "code",
   "execution_count": null,
   "metadata": {},
   "outputs": [],
   "source": [
    "import logging\n",
    "\n",
    "logging.basicConfig(level=logging.INFO)"
   ]
  },
  {
   "cell_type": "markdown",
   "metadata": {},
   "source": [
    "## Import configuration and modules"
   ]
  },
  {
   "cell_type": "code",
   "execution_count": null,
   "metadata": {},
   "outputs": [],
   "source": [
    "from remote_sensing_tools.stac_configuration import de_australia_stac_config\n",
    "from remote_sensing_tools.raster_base import RasterBase, QueryParams, LoadParams\n",
    "from rasterstats import zonal_stats\n",
    "import geopandas as gpd\n",
    "from sklearn.ensemble import RandomForestClassifier\n",
    "from remote_sensing_tools.band_indices import calculate_indices\n",
    "import xarray as xr"
   ]
  },
  {
   "cell_type": "markdown",
   "metadata": {},
   "source": [
    "## Query satellite products"
   ]
  },
  {
   "cell_type": "markdown",
   "metadata": {},
   "source": [
    "### Get DEA configuration and list collections"
   ]
  },
  {
   "cell_type": "code",
   "execution_count": null,
   "metadata": {},
   "outputs": [],
   "source": [
    "config = de_australia_stac_config\n",
    "config.list_collections()"
   ]
  },
  {
   "cell_type": "markdown",
   "metadata": {},
   "source": [
    "### Load DEA products:\n",
    "* Landsat 8 & 9 yearly geomedian"
   ]
  },
  {
   "cell_type": "code",
   "execution_count": null,
   "metadata": {},
   "outputs": [],
   "source": [
    "query_params_ls = QueryParams(\n",
    "    bbox=(145.02, -37.46, 145.01, -37.45),\n",
    "    start_date=\"2023-01-01\",\n",
    "    end_date=\"2023-12-31\",\n",
    ")\n",
    "\n",
    "# Landsat 8 & 9 yearly geomedian: load only geomedian spectral bands for now\n",
    "params_ls_8_9_gm = LoadParams(\n",
    "    crs=\"EPSG:3577\",\n",
    "    resolution=30,\n",
    "    bands=(\"nbart_blue\", \"nbart_green\", \"nbart_red\", \"nbart_nir\", \"nbart_swir_1\", \"nbart_swir_2\"),\n",
    ")\n",
    "raster_ls_8_9_gm = RasterBase.from_stac_query(\n",
    "    config=config,\n",
    "    collections=[\"ga_ls8cls9c_gm_cyear_3\"],\n",
    "    query_params=query_params_ls,\n",
    "    load_params=params_ls_8_9_gm,\n",
    ")\n",
    "ds_ls_8_9_gm= raster_ls_8_9_gm.data.isel(time=0)\n",
    "ds_ls_8_9_gm"
   ]
  },
  {
   "cell_type": "markdown",
   "metadata": {},
   "source": [
    "* Sentinel-2 Barest Earth and BSI"
   ]
  },
  {
   "cell_type": "code",
   "execution_count": null,
   "metadata": {},
   "outputs": [],
   "source": [
    "query_params_s2_be = QueryParams(\n",
    "    bbox=(145.02, -37.46, 145.01, -37.45),\n",
    "    start_date=\"2018-01-01\",\n",
    "    end_date=\"2018-12-31\",\n",
    ")\n",
    "\n",
    "# load only bands that are used for BSI calculation\n",
    "params_s2_be = LoadParams(\n",
    "    crs=\"EPSG:3577\",\n",
    "    resolution=30,\n",
    "    bands=(\"blue\", \"red\", \"nir\", \"swir_1\"),\n",
    ")\n",
    "raster_s2_be = RasterBase.from_stac_query(\n",
    "    config=config,\n",
    "    collections=[\"s2_barest_earth\"],\n",
    "    query_params=query_params_s2_be,\n",
    "    load_params=params_s2_be,\n",
    ")\n",
    "\n",
    "# calculate BSI\n",
    "ds_s2_be_bsi = calculate_indices(raster_s2_be.data, [\"bsi\"])\n",
    "\n",
    "# dropping original bands\n",
    "ds_s2_be_bsi = ds_s2_be_bsi[[\"bsi\"]].isel(time=0)\n",
    "ds_s2_be_bsi"
   ]
  },
  {
   "cell_type": "markdown",
   "metadata": {},
   "source": [
    "* SRTM DEM"
   ]
  },
  {
   "cell_type": "code",
   "execution_count": null,
   "metadata": {},
   "outputs": [],
   "source": [
    "query_params_dem = QueryParams(\n",
    "    bbox=(145.02, -37.46, 145.01, -37.45),\n",
    "    start_date=\"2014-01-01\",\n",
    "    end_date=\"2014-12-31\",\n",
    ")\n",
    "\n",
    "params_dem = LoadParams(\n",
    "    crs=\"EPSG:3577\",\n",
    "    resolution=30,\n",
    "    bands=(\"dem\"),\n",
    ")\n",
    "raster_dem= RasterBase.from_stac_query(\n",
    "    config=config,\n",
    "    collections=[\"ga_srtm_dem1sv1_0\"],\n",
    "    query_params=query_params_dem,\n",
    "    load_params=params_dem,\n",
    ")\n",
    "ds_dem = raster_dem.data.isel(time=0)\n",
    "ds_dem"
   ]
  },
  {
   "cell_type": "markdown",
   "metadata": {},
   "source": [
    "* Multi-scale Topographic Position Index (TPI)"
   ]
  },
  {
   "cell_type": "code",
   "execution_count": null,
   "metadata": {},
   "outputs": [],
   "source": [
    "query_params_tpi = QueryParams(\n",
    "    bbox=(145.02, -37.46, 145.01, -37.45),\n",
    "    start_date=\"2018-01-01\",\n",
    "    end_date=\"2018-12-31\",\n",
    ")\n",
    "\n",
    "params_tpi = LoadParams(\n",
    "    crs=\"EPSG:3577\",\n",
    "    resolution=30,\n",
    "    bands=(\"regional\", \"intermediate\", \"local\"),\n",
    ")\n",
    "raster_tpi= RasterBase.from_stac_query(\n",
    "    config=config,\n",
    "    collections=[\"multi_scale_topographic_position\"],\n",
    "    query_params=query_params_tpi,\n",
    "    load_params=params_tpi,\n",
    ")\n",
    "ds_tip = raster_tpi.data.isel(time=0)\n",
    "ds_tip"
   ]
  },
  {
   "cell_type": "markdown",
   "metadata": {},
   "source": [
    "* Weathering Intensity"
   ]
  },
  {
   "cell_type": "code",
   "execution_count": null,
   "metadata": {},
   "outputs": [],
   "source": [
    "query_params_weathering = QueryParams(\n",
    "    bbox=(145.02, -37.46, 145.01, -37.45),\n",
    "    start_date=\"2018-01-01\",\n",
    "    end_date=\"2018-12-31\",\n",
    ")\n",
    "\n",
    "params_weathering = LoadParams(\n",
    "    crs=\"EPSG:3577\",\n",
    "    resolution=30,\n",
    "    bands=(\"intensity\"),\n",
    ")\n",
    "raster_weathering= RasterBase.from_stac_query(\n",
    "    config=config,\n",
    "    collections=[\"weathering_intensity\"],\n",
    "    query_params=query_params_weathering,\n",
    "    load_params=params_weathering,\n",
    ")\n",
    "ds_weathering = raster_weathering.data.isel(time=0)\n",
    "ds_weathering"
   ]
  },
  {
   "cell_type": "markdown",
   "metadata": {},
   "source": [
    "## Stack all product bands"
   ]
  },
  {
   "cell_type": "code",
   "execution_count": null,
   "metadata": {},
   "outputs": [],
   "source": [
    "ds_all = xr.merge([ds_ls_8_9_gm, ds_s2_be_bsi, ds_dem, ds_tip, ds_weathering], compat='override')\n",
    "ds_all"
   ]
  },
  {
   "cell_type": "markdown",
   "metadata": {},
   "source": [
    "## Object-based classification for native species habitat prediction"
   ]
  },
  {
   "cell_type": "markdown",
   "metadata": {},
   "source": [
    "### Load pre-processed training points"
   ]
  },
  {
   "cell_type": "code",
   "execution_count": null,
   "metadata": {},
   "outputs": [],
   "source": [
    "# Frog presence points from ALA, with pseodo absence points pre-generated\n"
   ]
  },
  {
   "cell_type": "markdown",
   "metadata": {},
   "source": [
    "### Image segmentation"
   ]
  },
  {
   "cell_type": "markdown",
   "metadata": {},
   "source": [
    "### Object-level features calculation"
   ]
  },
  {
   "cell_type": "markdown",
   "metadata": {},
   "source": [
    "### Model training"
   ]
  },
  {
   "cell_type": "markdown",
   "metadata": {},
   "source": [
    "### Prediction"
   ]
  }
 ],
 "metadata": {
  "kernelspec": {
   "display_name": "remotesensingtools",
   "language": "python",
   "name": "python3"
  },
  "language_info": {
   "codemirror_mode": {
    "name": "ipython",
    "version": 3
   },
   "file_extension": ".py",
   "mimetype": "text/x-python",
   "name": "python",
   "nbconvert_exporter": "python",
   "pygments_lexer": "ipython3",
   "version": "3.11.0"
  }
 },
 "nbformat": 4,
 "nbformat_minor": 2
}
