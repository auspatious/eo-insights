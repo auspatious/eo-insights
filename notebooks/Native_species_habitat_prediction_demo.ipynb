{
 "cells": [
  {
   "cell_type": "markdown",
   "metadata": {},
   "source": [
    "# Predict habitat for native species"
   ]
  },
  {
   "cell_type": "markdown",
   "metadata": {},
   "source": [
    "## Set up notebook"
   ]
  },
  {
   "cell_type": "code",
   "execution_count": 4,
   "metadata": {},
   "outputs": [
    {
     "name": "stdout",
     "output_type": "stream",
     "text": [
      "The autoreload extension is already loaded. To reload it, use:\n",
      "  %reload_ext autoreload\n"
     ]
    }
   ],
   "source": [
    "%load_ext autoreload\n",
    "%autoreload 2"
   ]
  },
  {
   "cell_type": "code",
   "execution_count": 5,
   "metadata": {},
   "outputs": [],
   "source": [
    "import logging\n",
    "\n",
    "logging.basicConfig(level=logging.INFO)"
   ]
  },
  {
   "cell_type": "markdown",
   "metadata": {},
   "source": [
    "## Import configuration and modules"
   ]
  },
  {
   "cell_type": "code",
   "execution_count": 6,
   "metadata": {},
   "outputs": [],
   "source": [
    "from remote_sensing_tools.stac_configuration import de_australia_stac_config\n",
    "from remote_sensing_tools.raster_base import RasterBase, QueryParams, LoadParams\n",
    "from rasterstats import zonal_stats\n",
    "import geopandas as gpd\n",
    "from sklearn.ensemble import RandomForestClassifier"
   ]
  },
  {
   "cell_type": "markdown",
   "metadata": {},
   "source": [
    "## Query satellite products"
   ]
  },
  {
   "cell_type": "markdown",
   "metadata": {},
   "source": [
    "### Get DEA configuration and list collections"
   ]
  },
  {
   "cell_type": "code",
   "execution_count": 7,
   "metadata": {},
   "outputs": [
    {
     "name": "stderr",
     "output_type": "stream",
     "text": [
      "INFO:remote_sensing_tools.stac_utils:ga_s2am_ard_3 - Sentinel-2a\n",
      "INFO:remote_sensing_tools.stac_utils:ga_s2bm_ard_3 - Sentinel-2b\n",
      "INFO:remote_sensing_tools.stac_utils:ga_ls8cls9c_gm_cyear_3 - Landsat-8-9-gm\n"
     ]
    }
   ],
   "source": [
    "config = de_australia_stac_config\n",
    "\n",
    "config.list_collections()"
   ]
  },
  {
   "cell_type": "markdown",
   "metadata": {},
   "source": [
    "### Set query parameters"
   ]
  },
  {
   "cell_type": "code",
   "execution_count": 8,
   "metadata": {},
   "outputs": [],
   "source": [
    "query_params = QueryParams(\n",
    "    bbox=(145.02, -37.46, 145.01, -37.45),\n",
    "    start_date=\"2023-01-01\",\n",
    "    end_date=\"2023-12-31\",\n",
    ")"
   ]
  },
  {
   "cell_type": "markdown",
   "metadata": {},
   "source": [
    "### Load DEA products:\n",
    "* Landsat 8 & 9 yearly geomedian"
   ]
  },
  {
   "cell_type": "code",
   "execution_count": 9,
   "metadata": {},
   "outputs": [
    {
     "name": "stderr",
     "output_type": "stream",
     "text": [
      "WARNING:remote_sensing_tools.raster_base:There were no configured masks found for ga_ls8cls9c_gm_cyear_3\n",
      "INFO:remote_sensing_tools.raster_base:No masks were found for the requested collections\n"
     ]
    },
    {
     "data": {
      "text/plain": [
       "<remote_sensing_tools.raster_base.RasterBase at 0x2d014736310>"
      ]
     },
     "execution_count": 9,
     "metadata": {},
     "output_type": "execute_result"
    }
   ],
   "source": [
    "# Landsat 8 & 9 yearly geomedian: load only geomedian spectral bands for now\n",
    "params_ls_8_9_gm = LoadParams(\n",
    "    crs=\"EPSG:3577\",\n",
    "    resolution=30,\n",
    "    bands=(\"nbart_blue\", \"nbart_green\", \"nbart_red\", \"nbart_nir\", \"nbart_swir_1\", \"nbart_swir_2\"),\n",
    ")\n",
    "stac_raster = RasterBase.from_stac_query(\n",
    "    config=config,\n",
    "    collections=[\"ga_ls8cls9c_gm_cyear_3\"],\n",
    "    query_params=query_params,\n",
    "    load_params=params_ls_8_9_gm,\n",
    ")\n",
    "stac_raster"
   ]
  },
  {
   "cell_type": "markdown",
   "metadata": {},
   "source": [
    "* Sentinel-2 Barest Earth"
   ]
  },
  {
   "cell_type": "code",
   "execution_count": null,
   "metadata": {},
   "outputs": [],
   "source": []
  },
  {
   "cell_type": "markdown",
   "metadata": {},
   "source": [
    "* SRTM DEM\n",
    "* Multi-scale Topographic Position Index (TPI)\n",
    "* Weathering Intensity"
   ]
  },
  {
   "cell_type": "code",
   "execution_count": 15,
   "metadata": {},
   "outputs": [
    {
     "data": {
      "text/plain": [
       "<xarray.plot.facetgrid.FacetGrid at 0x2d01b88ccd0>"
      ]
     },
     "execution_count": 15,
     "metadata": {},
     "output_type": "execute_result"
    },
    {
     "data": {
      "image/png": "[encoded data removed]",
      "text/plain": [
       "<Figure size 400x300 with 1 Axes>"
      ]
     },
     "metadata": {},
     "output_type": "display_data"
    }
   ],
   "source": [
    "stac_raster.data.isel(time=slice(0,1))[\n",
    "    [\"nbart_red\", \"nbart_green\", \"nbart_blue\"]\n",
    "].to_array().plot.imshow(col=\"time\", vmin=0, vmax=3000)"
   ]
  },
  {
   "cell_type": "markdown",
   "metadata": {},
   "source": [
    "## Band indices calculation"
   ]
  },
  {
   "cell_type": "code",
   "execution_count": null,
   "metadata": {},
   "outputs": [],
   "source": []
  },
  {
   "cell_type": "markdown",
   "metadata": {},
   "source": [
    "## Object-based classification for native species habitat prediction"
   ]
  },
  {
   "cell_type": "markdown",
   "metadata": {},
   "source": [
    "### Load pre-processed training points"
   ]
  },
  {
   "cell_type": "code",
   "execution_count": null,
   "metadata": {},
   "outputs": [],
   "source": [
    "# Frog presence points from ALA, with pseodo absence points pre-generated\n"
   ]
  },
  {
   "cell_type": "markdown",
   "metadata": {},
   "source": [
    "### Image segmentation"
   ]
  },
  {
   "cell_type": "markdown",
   "metadata": {},
   "source": [
    "### Object-level features calculation"
   ]
  },
  {
   "cell_type": "markdown",
   "metadata": {},
   "source": [
    "### Model training"
   ]
  },
  {
   "cell_type": "markdown",
   "metadata": {},
   "source": [
    "### Prediction"
   ]
  }
 ],
 "metadata": {
  "kernelspec": {
   "display_name": "remotesensingtools",
   "language": "python",
   "name": "python3"
  },
  "language_info": {
   "codemirror_mode": {
    "name": "ipython",
    "version": 3
   },
   "file_extension": ".py",
   "mimetype": "text/x-python",
   "name": "python",
   "nbconvert_exporter": "python",
   "pygments_lexer": "ipython3",
   "version": "3.11.0"
  }
 },
 "nbformat": 4,
 "nbformat_minor": 2
}
