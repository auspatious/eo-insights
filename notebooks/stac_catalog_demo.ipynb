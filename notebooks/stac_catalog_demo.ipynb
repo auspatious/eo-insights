{
 "cells": [
  {
   "cell_type": "markdown",
   "metadata": {},
   "source": [
    "# Demo: Utilising multiple STAC Catalogs\n",
    "\n",
    "This notebook demonstrates the value of using `RasterBase` along with `QueryParams` and `LoadParams` to enable loading the same data from different sources with minimal changes to code.\n",
    "\n",
    "This notebook demonstrates:\n",
    "\n",
    "1. How to load data for Africa from Digital Earth Africa and Element 84\n",
    "1. How to load data for Australia from Digital Earth Australia and Element 84\n",
    "\n",
    "For more information on these classes, see [loading_demo.ipynb](loading_demo.ipynb)."
   ]
  },
  {
   "cell_type": "markdown",
   "metadata": {},
   "source": [
    "## Set up\n",
    "The following cell should be uncommented and run if you installed the package in editable mode and are actively developing and testing modules.\n",
    "Otherwise, it can be left commented."
   ]
  },
  {
   "cell_type": "code",
   "execution_count": null,
   "metadata": {},
   "outputs": [],
   "source": [
    "# %load_ext autoreload\n",
    "# %autoreload 2"
   ]
  },
  {
   "cell_type": "markdown",
   "metadata": {},
   "source": [
    "### Enable logging\n",
    "\n",
    "This will allow you to see info and warning messages from the package."
   ]
  },
  {
   "cell_type": "code",
   "execution_count": null,
   "metadata": {},
   "outputs": [],
   "source": [
    "import logging\n",
    "import sys\n",
    "\n",
    "logging.basicConfig(\n",
    "    format=\"%(asctime)s | %(levelname)s : %(message)s\",\n",
    "    level=logging.INFO,\n",
    "    stream=sys.stdout,\n",
    ")"
   ]
  },
  {
   "cell_type": "markdown",
   "metadata": {},
   "source": [
    "### Import the relevant packages"
   ]
  },
  {
   "cell_type": "code",
   "execution_count": null,
   "metadata": {},
   "outputs": [],
   "source": [
    "import numpy as np\n",
    "\n",
    "from eo_insights.band_indices import calculate_indices\n",
    "from eo_insights.raster_base import RasterBase, QueryParams, LoadParams\n",
    "from eo_insights.stac_configuration import (\n",
    "    de_africa_stac_config,\n",
    "    de_australia_stac_config,\n",
    "    element_84_stac_config,\n",
    ")"
   ]
  },
  {
   "cell_type": "markdown",
   "metadata": {},
   "source": [
    "# Africa \n",
    "In this section we load data over Africa from DE Africa and Element 84.\n",
    "\n",
    "### Set up area of interest and time to load\n",
    "The query and load parameters can be used for both catalogs."
   ]
  },
  {
   "cell_type": "code",
   "execution_count": null,
   "metadata": {},
   "outputs": [],
   "source": [
    "africa_query_params = QueryParams(\n",
    "    bbox=(37.76, 12.49, 37.77, 12.50),\n",
    "    start_date=\"2020-11-01\",\n",
    "    end_date=\"2020-12-01\",\n",
    ")\n",
    "\n",
    "africa_load_params = LoadParams(\n",
    "    crs=\"EPSG:6933\", resolution=20, bands=(\"red\", \"green\", \"blue\", \"nir\", \"scl\")\n",
    ")"
   ]
  },
  {
   "cell_type": "markdown",
   "metadata": {},
   "source": [
    "### Load and plot data from DE Africa"
   ]
  },
  {
   "cell_type": "code",
   "execution_count": null,
   "metadata": {},
   "outputs": [],
   "source": [
    "deafrica_stac_raster = RasterBase.from_stac_query(\n",
    "    config=de_africa_stac_config,\n",
    "    collections=[\"s2_l2a\"],\n",
    "    query_params=africa_query_params,\n",
    "    load_params=africa_load_params,\n",
    ")"
   ]
  },
  {
   "cell_type": "code",
   "execution_count": null,
   "metadata": {},
   "outputs": [],
   "source": [
    "deafrica_stac_raster.data = calculate_indices(deafrica_stac_raster.data, index=\"ndvi\")\n",
    "\n",
    "deafrica_stac_raster.data.ndvi.isel(time=0).plot(cmap=\"RdYlGn\")"
   ]
  },
  {
   "cell_type": "markdown",
   "metadata": {},
   "source": [
    "### Load and plot data from Element 84"
   ]
  },
  {
   "cell_type": "code",
   "execution_count": null,
   "metadata": {},
   "outputs": [],
   "source": [
    "element84_africa_stac_raster = RasterBase.from_stac_query(\n",
    "    config=element_84_stac_config,\n",
    "    collections=[\"sentinel-2-l2a\"],\n",
    "    query_params=africa_query_params,\n",
    "    load_params=africa_load_params,\n",
    ")"
   ]
  },
  {
   "cell_type": "code",
   "execution_count": null,
   "metadata": {},
   "outputs": [],
   "source": [
    "element84_africa_stac_raster.data = calculate_indices(\n",
    "    element84_africa_stac_raster.data, index=\"ndvi\"\n",
    ")\n",
    "\n",
    "element84_africa_stac_raster.data.ndvi.isel(time=0).plot(cmap=\"RdYlGn\")"
   ]
  },
  {
   "cell_type": "markdown",
   "metadata": {},
   "source": [
    "# Australia \n",
    "In this section we load data over Australia from DE Australia and Element 84.\n",
    "\n",
    "### Set up area of interest and time to load\n",
    "The query parameters can be used for both catalogs.\n",
    "The load parameters must be configured independently, as the two catalogs use different pixel quality bands."
   ]
  },
  {
   "cell_type": "code",
   "execution_count": null,
   "metadata": {},
   "outputs": [],
   "source": [
    "aus_query_params = QueryParams(\n",
    "    bbox=(145.02, -37.46, 145.01, -37.45),\n",
    "    start_date=\"2020-11-01\",\n",
    "    end_date=\"2020-12-01\",\n",
    ")"
   ]
  },
  {
   "cell_type": "markdown",
   "metadata": {},
   "source": [
    "### Load and plot data from DE Australia"
   ]
  },
  {
   "cell_type": "code",
   "execution_count": null,
   "metadata": {},
   "outputs": [],
   "source": [
    "deaus_load_params = LoadParams(\n",
    "    crs=\"EPSG:3577\", resolution=10, bands=(\"red\", \"green\", \"blue\", \"nir\", \"fmask\")\n",
    ")"
   ]
  },
  {
   "cell_type": "code",
   "execution_count": null,
   "metadata": {},
   "outputs": [],
   "source": [
    "deaus_stac_raster = RasterBase.from_stac_query(\n",
    "    config=de_australia_stac_config,\n",
    "    collections=[\"ga_s2am_ard_3\", \"ga_s2bm_ard_3\"],\n",
    "    query_params=aus_query_params,\n",
    "    load_params=deaus_load_params,\n",
    ")"
   ]
  },
  {
   "cell_type": "code",
   "execution_count": null,
   "metadata": {},
   "outputs": [],
   "source": [
    "deaus_stac_raster.data = calculate_indices(deaus_stac_raster.data, index=\"ndvi\")\n",
    "\n",
    "deaus_stac_raster.data.ndvi.isel(time=1).plot(cmap=\"RdYlGn\")"
   ]
  },
  {
   "cell_type": "markdown",
   "metadata": {},
   "source": [
    "### Load and plot data from Element 84"
   ]
  },
  {
   "cell_type": "code",
   "execution_count": null,
   "metadata": {},
   "outputs": [],
   "source": [
    "element84_aus_load_params = LoadParams(\n",
    "    crs=\"EPSG:3577\", resolution=10, bands=(\"red\", \"green\", \"blue\", \"nir\", \"scl\")\n",
    ")"
   ]
  },
  {
   "cell_type": "code",
   "execution_count": null,
   "metadata": {},
   "outputs": [],
   "source": [
    "element84_aus_stac_raster = RasterBase.from_stac_query(\n",
    "    config=element_84_stac_config,\n",
    "    collections=[\"sentinel-2-l2a\"],\n",
    "    query_params=aus_query_params,\n",
    "    load_params=element84_aus_load_params,\n",
    ")"
   ]
  },
  {
   "cell_type": "code",
   "execution_count": null,
   "metadata": {},
   "outputs": [],
   "source": [
    "element84_aus_stac_raster.data = calculate_indices(\n",
    "    element84_aus_stac_raster.data, index=\"ndvi\"\n",
    ")\n",
    "\n",
    "element84_aus_stac_raster.data.ndvi.isel(time=1).plot(cmap=\"RdYlGn\")"
   ]
  }
 ],
 "metadata": {
  "kernelspec": {
   "display_name": "remotesensingtools",
   "language": "python",
   "name": "python3"
  },
  "language_info": {
   "codemirror_mode": {
    "name": "ipython",
    "version": 3
   },
   "file_extension": ".py",
   "mimetype": "text/x-python",
   "name": "python",
   "nbconvert_exporter": "python",
   "pygments_lexer": "ipython3",
   "version": "3.11.0"
  }
 },
 "nbformat": 4,
 "nbformat_minor": 2
}
