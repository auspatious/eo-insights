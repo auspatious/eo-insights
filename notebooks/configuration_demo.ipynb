{
 "cells": [
  {
   "cell_type": "markdown",
   "metadata": {},
   "source": [
    "# Demo: Understanding configuration files\n",
    "This notebook outlines the default STAC configurations that come with the `eo-insights` package.\n",
    "It may be useful for understanding how to build and import your own configuration files for other STAC catalogs not included by default.\n",
    "\n",
    "The notebook demonstrates:\n",
    "\n",
    "1. The available configuration files\n",
    "1. The collections available in each configuration file\n",
    "\n",
    "## Why configuration files?\n",
    "\n",
    "Earth observation datasets come with valuable metadata such as information on available bands, data types, no data values, and cloud masking information, but this metadata isn't always readily available from a STAC Catalog (as the standard is currently evolving, and different providers use different STAC Extensions).\n",
    "\n",
    "To ensure this package loads data with rich metadata, it is generally necessary to manually configure this metadata when loading. \n",
    "For this package, the configuration is directly used by `RasterBase.from_stac_query()` which wraps `odc.stac.load()`. \n",
    "For more documentation on how the configuration is used, see the [odc-stac documentation](https://odc-stac.readthedocs.io/en/latest/_api/odc.stac.load.html)."
   ]
  },
  {
   "cell_type": "markdown",
   "metadata": {},
   "source": [
    "## Set up\n",
    "### Enable logging\n",
    "\n",
    "This will allow you to see info and warning messages from the package."
   ]
  },
  {
   "cell_type": "code",
   "execution_count": null,
   "metadata": {},
   "outputs": [],
   "source": [
    "import logging\n",
    "import sys\n",
    "\n",
    "logging.basicConfig(\n",
    "    format=\"%(asctime)s | %(levelname)s : %(message)s\",\n",
    "    level=logging.INFO,\n",
    "    stream=sys.stdout,\n",
    ")"
   ]
  },
  {
   "cell_type": "markdown",
   "metadata": {},
   "source": [
    "## Available Configurations\n",
    "\n",
    "Configurations are provided as `.toml` files in the dataset_configuration folder, and are then instantiated as configuration class objects by the `stac_configuration` module.\n",
    "As such, you can import any configuration that has been set up in the `stac_configuration` module.\n",
    "\n",
    "This includes\n",
    "\n",
    "- Digital Earth Africa (de_africa_stac_config)\n",
    "- Digital Earth Australia (de_australia_stac_config)\n",
    "- Element 84 (element_84_stac_config)"
   ]
  },
  {
   "cell_type": "code",
   "execution_count": null,
   "metadata": {},
   "outputs": [],
   "source": [
    "from pprint import pprint\n",
    "from eo_insights.stac_configuration import (\n",
    "    de_africa_stac_config,\n",
    "    de_australia_stac_config,\n",
    "    element_84_stac_config,\n",
    ")"
   ]
  },
  {
   "cell_type": "markdown",
   "metadata": {},
   "source": [
    "## Available collections\n",
    "\n",
    "Using Digital Earth Australia as an example, it's possible to view the collections that have been configured using the `list_collections()` method.\n",
    "\n",
    "This displays an INFO message with the name of the collection, followed by it's description."
   ]
  },
  {
   "cell_type": "code",
   "execution_count": null,
   "metadata": {},
   "outputs": [],
   "source": [
    "de_australia_stac_config.list_collections()"
   ]
  },
  {
   "cell_type": "markdown",
   "metadata": {},
   "source": [
    "## Viewing catalog and collection metadata\n",
    "\n",
    "The `STACConfig` class has a number of attributes that allow you to access the specific metadata stored in the configuration."
   ]
  },
  {
   "cell_type": "markdown",
   "metadata": {},
   "source": [
    "### Catalog metadata"
   ]
  },
  {
   "cell_type": "code",
   "execution_count": null,
   "metadata": {},
   "outputs": [],
   "source": [
    "pprint(de_australia_stac_config.catalog)"
   ]
  },
  {
   "cell_type": "markdown",
   "metadata": {},
   "source": [
    "### View the available collections"
   ]
  },
  {
   "cell_type": "code",
   "execution_count": null,
   "metadata": {},
   "outputs": [],
   "source": [
    "pprint(de_australia_stac_config.collections)"
   ]
  },
  {
   "cell_type": "markdown",
   "metadata": {},
   "source": [
    "### For a given collection, view collection metadata\n",
    "\n",
    "This contains useful information on the band aliases used when loading the collection, the data type for each band, and whether there are any masks."
   ]
  },
  {
   "cell_type": "code",
   "execution_count": null,
   "metadata": {},
   "outputs": [],
   "source": [
    "pprint(de_australia_stac_config.collections.get(\"ga_s2am_ard_3\"))"
   ]
  },
  {
   "cell_type": "markdown",
   "metadata": {},
   "source": [
    "## Using a new configuration\n",
    "\n",
    "Only a fixed set of default configurations are available through the `stac_configuration` module. \n",
    "To load and use your own configurations, construct a `config.toml` file using the same structure as the provided files (e.g [digital_earth_australia_stac.toml](../s.rc/eo_insights/dataset_configuration/digital_earth_australia_stac.toml)).\n",
    "\n",
    "Once you have a configuration file, it can be loaded using the `STACConfig` class, which has a method for loading from `.toml` files:\n",
    "\n",
    "```\n",
    "from eo_insights.stac_utils import STACConfig\n",
    "\n",
    "CONFIG_FILEPATH = ...\n",
    "\n",
    "config = STACConfig.from_toml(configuration_toml_path=CONFIG_FILEPATH)\n",
    "```"
   ]
  }
 ],
 "metadata": {
  "kernelspec": {
   "display_name": "eoinsights",
   "language": "python",
   "name": "python3"
  },
  "language_info": {
   "codemirror_mode": {
    "name": "ipython",
    "version": 3
   },
   "file_extension": ".py",
   "mimetype": "text/x-python",
   "name": "python",
   "nbconvert_exporter": "python",
   "pygments_lexer": "ipython3",
   "version": "3.11.0"
  }
 },
 "nbformat": 4,
 "nbformat_minor": 2
}
