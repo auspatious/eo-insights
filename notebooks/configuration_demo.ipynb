{
 "cells": [
  {
   "cell_type": "markdown",
   "metadata": {},
   "source": [
    "# Demo: Understanding configuration files\n",
    "This notebook outlines the default STAC configurations that come with the `eo-insights` package.\n",
    "It may be useful for understanding how to build and import your own configuration files for other STAC catalogs not included by default.\n",
    "\n",
    "The notebook demonstrates:\n",
    "\n",
    "1. The available configuration files\n",
    "1. The products available in each configuration file\n",
    "1. Calculating key indices for development detection (NDWI, BSI, MSAVI, and BAEI)\n",
    "1. Calculating temporal statistics for the indices (median and maximum)\n",
    "1. Displaying the calculated indices"
   ]
  }
 ],
 "metadata": {
  "kernelspec": {
   "display_name": "eoinsights",
   "language": "python",
   "name": "python3"
  },
  "language_info": {
   "name": "python",
   "version": "3.11.0"
  }
 },
 "nbformat": 4,
 "nbformat_minor": 2
}
