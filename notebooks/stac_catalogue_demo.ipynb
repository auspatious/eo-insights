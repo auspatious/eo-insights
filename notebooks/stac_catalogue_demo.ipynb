{
 "cells": [
  {
   "cell_type": "code",
   "execution_count": null,
   "metadata": {},
   "outputs": [],
   "source": [
    "%load_ext autoreload\n",
    "%autoreload 2"
   ]
  },
  {
   "cell_type": "code",
   "execution_count": null,
   "metadata": {},
   "outputs": [],
   "source": [
    "import pathlib\n",
    "from remote_sensing_tools.raster_base import RasterBase, QueryParams, LoadParams\n",
    "from remote_sensing_tools.stac_config import STACConfig, stac_config_from_toml"
   ]
  },
  {
   "cell_type": "markdown",
   "metadata": {},
   "source": [
    "# Africa \n",
    "In this section we load data over Africa from DE Africa and Element 84.\n",
    "\n",
    "### Set up area of interest and time to load\n",
    "The query parameters are used for both methods of loading data."
   ]
  },
  {
   "cell_type": "code",
   "execution_count": null,
   "metadata": {},
   "outputs": [],
   "source": [
    "africa_query_params = QueryParams(\n",
    "    bbox=(37.76, 12.49, 37.77, 12.50),\n",
    "    start_date=\"2020-11-01\",\n",
    "    end_date=\"2020-12-01\",\n",
    ")\n",
    "\n",
    "africa_load_params = LoadParams(\n",
    "    crs=\"EPSG:6933\", resolution=20, bands=(\"red\", \"green\", \"blue\", \"nir\", \"scl\")\n",
    ")"
   ]
  },
  {
   "cell_type": "markdown",
   "metadata": {},
   "source": [
    "### Load and plot data from DE Africa"
   ]
  },
  {
   "cell_type": "code",
   "execution_count": null,
   "metadata": {},
   "outputs": [],
   "source": [
    "deafrica_config_file = pathlib.Path(\n",
    "    \"../dataset_configuration/digital_earth_africa_stac/digital_earth_africa_stac.toml\"\n",
    ")\n",
    "\n",
    "deafrica_config_dict = stac_config_from_toml(config_file_path=deafrica_config_file)\n",
    "\n",
    "deafrica_config = STACConfig(deafrica_config_dict)"
   ]
  },
  {
   "cell_type": "code",
   "execution_count": null,
   "metadata": {},
   "outputs": [],
   "source": [
    "deafrica_stac_raster = RasterBase.from_stac_query(\n",
    "    config=deafrica_config,\n",
    "    collections=[\"s2_l2a\"],\n",
    "    query_params=africa_query_params,\n",
    "    load_params=africa_load_params,\n",
    ")\n",
    "\n",
    "deafrica_stac_data = deafrica_stac_raster.data"
   ]
  },
  {
   "cell_type": "code",
   "execution_count": null,
   "metadata": {},
   "outputs": [],
   "source": [
    "ndvi_deafrica = (deafrica_stac_data.nir - deafrica_stac_data.red) / (\n",
    "    deafrica_stac_data.nir + deafrica_stac_data.red\n",
    ").compute()\n",
    "ndvi_deafrica.isel(time=0).plot(cmap=\"RdYlGn\")"
   ]
  },
  {
   "cell_type": "markdown",
   "metadata": {},
   "source": [
    "### Load and plot data from Element 84"
   ]
  },
  {
   "cell_type": "code",
   "execution_count": null,
   "metadata": {},
   "outputs": [],
   "source": [
    "element84_africa_config_file = pathlib.Path(\n",
    "    \"../dataset_configuration/element84_stac/element_84_stac.toml\"\n",
    ")\n",
    "\n",
    "element84_africa_config_dict = stac_config_from_toml(element84_africa_config_file)\n",
    "\n",
    "element84_africa_config = STACConfig(element84_africa_config_dict)"
   ]
  },
  {
   "cell_type": "code",
   "execution_count": null,
   "metadata": {},
   "outputs": [],
   "source": [
    "element84_stac_raster = RasterBase.from_stac_query(\n",
    "    config=element84_africa_config,\n",
    "    collections=[\"sentinel-2-l2a\"],\n",
    "    query_params=africa_query_params,\n",
    "    load_params=africa_load_params,\n",
    ")\n",
    "element84_africa_stac_data = element84_stac_raster.data"
   ]
  },
  {
   "cell_type": "code",
   "execution_count": null,
   "metadata": {},
   "outputs": [],
   "source": [
    "ndvi_element84_africa = (\n",
    "    element84_africa_stac_data.nir - element84_africa_stac_data.red\n",
    ") / (element84_africa_stac_data.nir + element84_africa_stac_data.red).compute()\n",
    "ndvi_element84_africa.isel(time=0).plot(cmap=\"RdYlGn\")"
   ]
  },
  {
   "cell_type": "markdown",
   "metadata": {},
   "source": [
    "### Dataset comparison\n",
    "In this section we will compare the two datasets that we get from loading data from DE Africa and Element 84."
   ]
  },
  {
   "cell_type": "code",
   "execution_count": null,
   "metadata": {},
   "outputs": [],
   "source": [
    "same_x_dim = element84_africa_stac_data.dims[\"x\"] == deafrica_stac_data.dims[\"x\"]\n",
    "same_x_dim"
   ]
  },
  {
   "cell_type": "code",
   "execution_count": null,
   "metadata": {},
   "outputs": [],
   "source": [
    "same_y_dim = element84_africa_stac_data.dims[\"y\"] == deafrica_stac_data.dims[\"y\"]\n",
    "same_y_dim"
   ]
  },
  {
   "cell_type": "code",
   "execution_count": null,
   "metadata": {},
   "outputs": [],
   "source": [
    "for (var_name1, data_array1), (var_name2, data_array2) in zip(\n",
    "    element84_africa_stac_data.data_vars.items(), deafrica_stac_data.data_vars.items()\n",
    "):\n",
    "    print(\n",
    "        f\"Data type of '{var_name1}' from Element 84: {data_array1.dtype}, and DE Africa: {data_array2.dtype}\"\n",
    "    )"
   ]
  },
  {
   "cell_type": "markdown",
   "metadata": {},
   "source": [
    "# Australia \n",
    "In this section we load data over Australia from DE Australia and Element 84.\n",
    "\n",
    "### Set up area of interest and time to load\n",
    "The query parameters are used for both methods of loading data. "
   ]
  },
  {
   "cell_type": "code",
   "execution_count": null,
   "metadata": {},
   "outputs": [],
   "source": [
    "aus_query_params = QueryParams(\n",
    "    bbox=(145.02, -37.46, 145.01, -37.45),\n",
    "    start_date=\"2020-11-01\",\n",
    "    end_date=\"2020-12-01\",\n",
    ")"
   ]
  },
  {
   "cell_type": "markdown",
   "metadata": {},
   "source": [
    "### Load and plot data from DE Australia"
   ]
  },
  {
   "cell_type": "code",
   "execution_count": null,
   "metadata": {},
   "outputs": [],
   "source": [
    "deaus_load_params = LoadParams(\n",
    "    crs=\"EPSG:3577\", resolution=10, bands=(\"red\", \"green\", \"blue\", \"nir\", \"fmask\")\n",
    ")"
   ]
  },
  {
   "cell_type": "code",
   "execution_count": null,
   "metadata": {},
   "outputs": [],
   "source": [
    "deaus_config_file = pathlib.Path(\n",
    "    \"../dataset_configuration/digital_earth_australia_stac/digital_earth_australia_stac.toml\"\n",
    ")\n",
    "\n",
    "deaus_config_dict = stac_config_from_toml(config_file_path=deaus_config_file)\n",
    "\n",
    "deaus_config = STACConfig(deaus_config_dict)"
   ]
  },
  {
   "cell_type": "code",
   "execution_count": null,
   "metadata": {},
   "outputs": [],
   "source": [
    "deaus_stac_raster = RasterBase.from_stac_query(\n",
    "    config=deaus_config,\n",
    "    collections=[\"ga_s2am_ard_3\"],\n",
    "    query_params=aus_query_params,\n",
    "    load_params=deaus_load_params,\n",
    ")\n",
    "deaus_stac_data = deaus_stac_raster.data"
   ]
  },
  {
   "cell_type": "code",
   "execution_count": null,
   "metadata": {},
   "outputs": [],
   "source": [
    "ndvi_de_aus = (deaus_stac_data.nir - deaus_stac_data.red) / (\n",
    "    deaus_stac_data.nir + deaus_stac_data.red\n",
    ").compute()\n",
    "ndvi_de_aus.isel(time=1).plot(cmap=\"RdYlGn\")"
   ]
  },
  {
   "cell_type": "markdown",
   "metadata": {},
   "source": [
    "### Load and plot data from Element 84"
   ]
  },
  {
   "cell_type": "code",
   "execution_count": null,
   "metadata": {},
   "outputs": [],
   "source": [
    "element84_aus_load_params = LoadParams(\n",
    "    crs=\"EPSG:3577\", resolution=10, bands=(\"red\", \"green\", \"blue\", \"nir\", \"scl\")\n",
    ")"
   ]
  },
  {
   "cell_type": "code",
   "execution_count": null,
   "metadata": {},
   "outputs": [],
   "source": [
    "element84_aus_config_file = pathlib.Path(\n",
    "    \"../dataset_configuration/element84_stac/element_84_stac.toml\"\n",
    ")\n",
    "\n",
    "element84_aus_config_dict = stac_config_from_toml(element84_aus_config_file)\n",
    "\n",
    "element84_aus_config = STACConfig(element84_aus_config_dict)"
   ]
  },
  {
   "cell_type": "code",
   "execution_count": null,
   "metadata": {},
   "outputs": [],
   "source": [
    "element84_aus_stac_raster = RasterBase.from_stac_query(\n",
    "    config=element84_aus_config,\n",
    "    collections=[\"sentinel-2-l2a\"],\n",
    "    query_params=aus_query_params,\n",
    "    load_params=element84_aus_load_params,\n",
    ")\n",
    "element84_aus_stac_data = element84_aus_stac_raster.data"
   ]
  },
  {
   "cell_type": "code",
   "execution_count": null,
   "metadata": {},
   "outputs": [],
   "source": [
    "ndvi_element84_aus = (element84_aus_stac_data.nir - element84_aus_stac_data.red) / (\n",
    "    element84_aus_stac_data.nir + element84_aus_stac_data.red\n",
    ").compute()\n",
    "ndvi_element84_aus.isel(time=1).plot(cmap=\"RdYlGn\")"
   ]
  },
  {
   "cell_type": "markdown",
   "metadata": {},
   "source": [
    "### Dataset comparison\n",
    "In this section we will compare the two datasets that we get from loading data from DE Australia and Element 84."
   ]
  },
  {
   "cell_type": "code",
   "execution_count": null,
   "metadata": {},
   "outputs": [],
   "source": [
    "same_x_dim_aus = element84_aus_stac_data.dims[\"x\"] == deaus_stac_data.dims[\"x\"]\n",
    "same_x_dim_aus"
   ]
  },
  {
   "cell_type": "code",
   "execution_count": null,
   "metadata": {},
   "outputs": [],
   "source": [
    "same_y_dim_aus = element84_aus_stac_data.dims[\"y\"] == deaus_stac_data.dims[\"y\"]\n",
    "same_y_dim_aus"
   ]
  },
  {
   "cell_type": "code",
   "execution_count": null,
   "metadata": {},
   "outputs": [],
   "source": [
    "for (var_name1, data_array1), (var_name2, data_array2) in zip(\n",
    "    element84_aus_stac_data.data_vars.items(), deaus_stac_data.data_vars.items()\n",
    "):\n",
    "    print(\n",
    "        f\"Data type of '{var_name1}' from Element 84: {data_array1.dtype}, and DE Australia: {data_array2.dtype}\"\n",
    "    )"
   ]
  }
 ],
 "metadata": {
  "kernelspec": {
   "display_name": "remotesensingtools",
   "language": "python",
   "name": "python3"
  },
  "language_info": {
   "codemirror_mode": {
    "name": "ipython",
    "version": 3
   },
   "file_extension": ".py",
   "mimetype": "text/x-python",
   "name": "python",
   "nbconvert_exporter": "python",
   "pygments_lexer": "ipython3",
   "version": "3.9.19"
  }
 },
 "nbformat": 4,
 "nbformat_minor": 2
}
