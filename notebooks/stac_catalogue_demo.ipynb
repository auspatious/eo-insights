{
 "cells": [
  {
   "cell_type": "code",
   "execution_count": null,
   "metadata": {},
   "outputs": [],
   "source": [
    "%load_ext autoreload\n",
    "%autoreload 2"
   ]
  },
  {
   "cell_type": "code",
   "execution_count": null,
   "metadata": {},
   "outputs": [],
   "source": [
    "from remote_sensing_tools.config import de_africa_config\n",
    "from remote_sensing_tools.data import EOData, LoadInfo"
   ]
  },
  {
   "cell_type": "markdown",
   "metadata": {},
   "source": [
    "# Africa \n",
    "In this section we load data over Africa from DE Africa and Element 84.\n",
    "\n",
    "### Set up area of interest and time to load"
   ]
  },
  {
   "cell_type": "code",
   "execution_count": null,
   "metadata": {},
   "outputs": [],
   "source": [
    "# Set a bounding box\n",
    "# [xmin, ymin, xmax, ymax] in latitude and longitude\n",
    "bbox = (37.76, 12.49, 37.77, 12.50)\n",
    "\n",
    "# Set geospatial information for output\n",
    "output_crs = \"EPSG:6933\"\n",
    "output_resolution = 20\n",
    "\n",
    "# Set a start and end date\n",
    "start_date = \"2020-11-01\"\n",
    "end_date = \"2020-12-01\""
   ]
  },
  {
   "cell_type": "markdown",
   "metadata": {},
   "source": [
    "### Add configuration info for loading"
   ]
  },
  {
   "cell_type": "code",
   "execution_count": null,
   "metadata": {},
   "outputs": [],
   "source": [
    "# Set geospatial information\n",
    "bands = (\"red\", \"green\", \"blue\", \"nir\")"
   ]
  },
  {
   "cell_type": "code",
   "execution_count": null,
   "metadata": {},
   "outputs": [],
   "source": [
    "load_info = LoadInfo(\n",
    "    bbox=bbox,\n",
    "    crs=output_crs,\n",
    "    bands=bands,\n",
    "    resolution=output_resolution,\n",
    "    start_date=start_date,\n",
    "    end_date=end_date,\n",
    ")"
   ]
  },
  {
   "cell_type": "code",
   "execution_count": null,
   "metadata": {},
   "outputs": [],
   "source": [
    "eo_data_config = EOData(load_info)"
   ]
  },
  {
   "cell_type": "markdown",
   "metadata": {},
   "source": [
    "### Set up load from Element 84"
   ]
  },
  {
   "cell_type": "code",
   "execution_count": null,
   "metadata": {},
   "outputs": [],
   "source": [
    "ds_element84 = eo_data_config.load_from_stac(\n",
    "    catalog_url=\"https://earth-search.aws.element84.com/v1/\",\n",
    "    collections=[\"sentinel-2-l2a\"],\n",
    "    stac_config=None,\n",
    "    aws_endpoint=\"s3.us-west-2.amazonaws.com\",\n",
    ")\n",
    "\n",
    "ds_element84"
   ]
  },
  {
   "cell_type": "code",
   "execution_count": null,
   "metadata": {},
   "outputs": [],
   "source": [
    "ds_element84 = ds_element84.compute()\n",
    "ds_element84"
   ]
  },
  {
   "cell_type": "markdown",
   "metadata": {},
   "source": [
    "### Set up load from DE Africa"
   ]
  },
  {
   "cell_type": "code",
   "execution_count": null,
   "metadata": {},
   "outputs": [],
   "source": [
    "ds_deafrica = eo_data_config.load_from_stac(\n",
    "    catalog_url=\"https://explorer.digitalearth.africa/stac\",\n",
    "    collections=[\"s2_l2a\"],\n",
    "    stac_config=de_africa_config,\n",
    "    aws_endpoint=\"s3.af-south-1.amazonaws.com\",\n",
    ")\n",
    "\n",
    "ds_deafrica"
   ]
  },
  {
   "cell_type": "code",
   "execution_count": null,
   "metadata": {},
   "outputs": [],
   "source": [
    "ds_deafrica = ds_deafrica.compute()\n",
    "ds_deafrica"
   ]
  },
  {
   "cell_type": "code",
   "execution_count": null,
   "metadata": {},
   "outputs": [],
   "source": [
    "import matplotlib.pyplot as plt"
   ]
  },
  {
   "cell_type": "code",
   "execution_count": null,
   "metadata": {},
   "outputs": [],
   "source": [
    "ndvi_deafrica = (ds_deafrica.nir - ds_deafrica.red)/(ds_deafrica.nir + ds_deafrica.red)\n",
    "ndvi_deafrica.isel(time=0).plot(cmap='RdYlGn')"
   ]
  },
  {
   "cell_type": "code",
   "execution_count": null,
   "metadata": {},
   "outputs": [],
   "source": [
    "ndvi_element84 = (ds_element84.nir - ds_element84.red)/(ds_element84.nir + ds_element84.red)\n",
    "ndvi_element84.isel(time=0).plot(cmap='RdYlGn')"
   ]
  },
  {
   "cell_type": "code",
   "execution_count": null,
   "metadata": {},
   "outputs": [],
   "source": [
    "ndvi_element84.max()"
   ]
  },
  {
   "cell_type": "code",
   "execution_count": null,
   "metadata": {},
   "outputs": [],
   "source": [
    "de_africa_dt = type(ds_deafrica)\n",
    "africa_element84_dt = type(ds_element84)\n",
    "de_africa_dt"
   ]
  },
  {
   "cell_type": "code",
   "execution_count": null,
   "metadata": {},
   "outputs": [],
   "source": [
    "same_x_dim = (ds_element84.dims['x'] == ds_deafrica.dims['x'])\n",
    "same_x_dim"
   ]
  },
  {
   "cell_type": "code",
   "execution_count": null,
   "metadata": {},
   "outputs": [],
   "source": [
    "same_y_dim = (ds_element84.dims['y'] == ds_deafrica.dims['y'])\n",
    "same_y_dim"
   ]
  },
  {
   "cell_type": "code",
   "execution_count": null,
   "metadata": {},
   "outputs": [],
   "source": [
    "for var_name, data_array in ds_element84.data_vars.items():\n",
    "    print(f\"Data type of variable '{var_name}': {data_array.dtype}\")"
   ]
  },
  {
   "cell_type": "code",
   "execution_count": null,
   "metadata": {},
   "outputs": [],
   "source": [
    "for var_name, data_array in ds_deafrica.data_vars.items():\n",
    "    print(f\"Data type of variable '{var_name}': {data_array.dtype}\")"
   ]
  },
  {
   "cell_type": "markdown",
   "metadata": {},
   "source": [
    "# Australia \n",
    "In this section we load data over Australia from DE Africa and Element 84.\n",
    "\n",
    "### Set up area of interest and time to load"
   ]
  },
  {
   "cell_type": "code",
   "execution_count": null,
   "metadata": {},
   "outputs": [],
   "source": [
    "# Set a bounding box\n",
    "# [xmin, ymin, xmax, ymax] in latitude and longitude\n",
    "bbox = (145.02, -37.46, 145.01, -37.45)\n",
    "\n",
    "# Set geospatial information for output\n",
    "output_crs = \"EPSG:3577\"\n",
    "output_resolution = 10\n",
    "\n",
    "# Set a start and end date\n",
    "start_date = \"2020-11-01\"\n",
    "end_date = \"2020-12-01\""
   ]
  },
  {
   "cell_type": "code",
   "execution_count": null,
   "metadata": {},
   "outputs": [],
   "source": [
    "# Set geospatial information\n",
    "bands = (\"red\", \"green\", \"blue\", \"nir\")"
   ]
  },
  {
   "cell_type": "code",
   "execution_count": null,
   "metadata": {},
   "outputs": [],
   "source": [
    "load_info = LoadInfo(\n",
    "    bbox=bbox,\n",
    "    crs=output_crs,\n",
    "    bands=bands,\n",
    "    resolution=output_resolution,\n",
    "    start_date=start_date,\n",
    "    end_date=end_date,\n",
    ")"
   ]
  },
  {
   "cell_type": "code",
   "execution_count": null,
   "metadata": {},
   "outputs": [],
   "source": [
    "eo_data_config = EOData(load_info)"
   ]
  },
  {
   "cell_type": "code",
   "execution_count": null,
   "metadata": {},
   "outputs": [],
   "source": [
    "ds_aus_element84 = eo_data_config.load_from_stac(\n",
    "    catalog_url=\"https://earth-search.aws.element84.com/v1/\",\n",
    "    collections=[\"sentinel-2-l2a\"],\n",
    "    stac_config=None,\n",
    "    aws_endpoint=None,\n",
    ")\n",
    "\n",
    "ds_aus_element84"
   ]
  },
  {
   "cell_type": "code",
   "execution_count": null,
   "metadata": {},
   "outputs": [],
   "source": [
    "ds_aus_element84 = ds_aus_element84.compute()\n",
    "ds_aus_element84"
   ]
  },
  {
   "cell_type": "code",
   "execution_count": null,
   "metadata": {},
   "outputs": [],
   "source": [
    "ndvi_aus_element84 = (ds_aus_element84.nir - ds_aus_element84.red)/(ds_aus_element84.nir + ds_aus_element84.red)\n",
    "ndvi_aus_element84.isel(time=1).plot(cmap='RdYlGn')"
   ]
  },
  {
   "cell_type": "markdown",
   "metadata": {},
   "source": [
    "### Loading DE Australia data"
   ]
  },
  {
   "cell_type": "code",
   "execution_count": null,
   "metadata": {},
   "outputs": [],
   "source": [
    "de_australia_config = {\n",
    "    \"ga_s2am_ard_3\": {\n",
    "        \"assets\": {\n",
    "            \"*\": {\n",
    "                \"data_type\": \"int16\",\n",
    "                \"nodata\": -999,\n",
    "                \"unit\": \"1\",\n",
    "            },\n",
    "            \"oa_mask\": {\n",
    "                \"data_type\": \"uint8\",\n",
    "                \"nodata\": 0,\n",
    "                \"unit\": \"1\",\n",
    "            },\n",
    "        },\n",
    "        \"aliases\": {\n",
    "            \"coastal_aerosol\":\"nbart_coastal_aerosol\",\n",
    "            \"blue\": \"nbart_blue\",\n",
    "            \"green\": \"nbart_green\",\n",
    "            \"red\": \"nbart_red\",\n",
    "            \"red_edge_1\": \"nbart_red_edge_1\",\n",
    "            \"red_edge_2\": \"nbart_red_edge_2\",\n",
    "            \"red_edge_3\": \"nbart_red_edge_3\",\n",
    "            \"nbart_common_nir\": \"nbart_nir_1\",\n",
    "            \"nir_2\": \"nbart_nir_2\",\n",
    "            \"swir2\": \"nbart_swir_2\",\n",
    "            \"nbart_common_swir_2\": \"nbart_swir_3\",\n",
    "            \"fmask\": \"oa_mask\",\n",
    "        },\n",
    "    }\n",
    "}"
   ]
  },
  {
   "cell_type": "code",
   "execution_count": null,
   "metadata": {},
   "outputs": [],
   "source": [
    "de_aus_bands = (\"red\", \"green\", \"blue\")"
   ]
  },
  {
   "cell_type": "code",
   "execution_count": null,
   "metadata": {},
   "outputs": [],
   "source": [
    "de_aus_load_info = LoadInfo(\n",
    "    bbox=bbox,\n",
    "    crs=output_crs,\n",
    "    bands=de_aus_bands,\n",
    "    resolution=output_resolution,\n",
    "    start_date=start_date,\n",
    "    end_date=end_date,\n",
    ")"
   ]
  },
  {
   "cell_type": "code",
   "execution_count": null,
   "metadata": {},
   "outputs": [],
   "source": [
    "eo_data_config_deaus = EOData(de_aus_load_info)"
   ]
  },
  {
   "cell_type": "code",
   "execution_count": null,
   "metadata": {},
   "outputs": [],
   "source": [
    "ds_de_aus = eo_data_config_deaus.load_from_stac(\n",
    "    catalog_url=\"https://explorer.sandbox.dea.ga.gov.au/stac\",\n",
    "    collections=[\"ga_s2am_ard_3\"],\n",
    "    stac_config=de_australia_config,\n",
    "    aws_endpoint=None,\n",
    ")\n",
    "\n",
    "ds_de_aus"
   ]
  },
  {
   "cell_type": "code",
   "execution_count": null,
   "metadata": {},
   "outputs": [],
   "source": [
    "import os\n",
    "os.environ['AWS_NO_SIGN_REQUEST'] = 'YES'"
   ]
  },
  {
   "cell_type": "code",
   "execution_count": null,
   "metadata": {},
   "outputs": [],
   "source": [
    "ds_de_aus = ds_de_aus.compute()\n",
    "ds_de_aus"
   ]
  }
 ],
 "metadata": {
  "kernelspec": {
   "display_name": "remotesensingtools",
   "language": "python",
   "name": "python3"
  },
  "language_info": {
   "codemirror_mode": {
    "name": "ipython",
    "version": 3
   },
   "file_extension": ".py",
   "mimetype": "text/x-python",
   "name": "python",
   "nbconvert_exporter": "python",
   "pygments_lexer": "ipython3",
   "version": "3.9.19"
  }
 },
 "nbformat": 4,
 "nbformat_minor": 2
}
