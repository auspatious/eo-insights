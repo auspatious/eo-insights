{
 "cells": [
  {
   "cell_type": "markdown",
   "metadata": {},
   "source": [
    "# Demo: Calculating band indices\n",
    "\n",
    "This notebook demonstrates how to calculate band indices for multispectral data using the `eo-insights` package.\n",
    "The notebook was inspired by work done by FrontierSI for .id on detecting residential development using satellite imagery.\n",
    "\n",
    "The notebook demonstrates:\n",
    "\n",
    "1. Importing the relevant module and function\n",
    "1. Loading relevant bands from Digital Earth Australia's Sentinel-2 product\n",
    "1. Calculating key indices for development detection (NDWI, BSI, MSAVI, and BAEI)\n",
    "1. Calculating temporal statistics for the indices (median and maximum)\n",
    "1. Displaying the calculated indices"
   ]
  },
  {
   "cell_type": "markdown",
   "metadata": {},
   "source": [
    "## Set up\n",
    "\n",
    "The following cell should be uncommented and run if you installed the package in editable mode and are actively developing and testing modules.\n",
    "Otherwise, it can be left commented."
   ]
  },
  {
   "cell_type": "code",
   "execution_count": null,
   "metadata": {},
   "outputs": [],
   "source": [
    "# %load_ext autoreload\n",
    "# %autoreload 2"
   ]
  },
  {
   "cell_type": "markdown",
   "metadata": {},
   "source": [
    "### Enable logging\n",
    "\n",
    "This will allow you to see info and warning messages from the package."
   ]
  },
  {
   "cell_type": "code",
   "execution_count": null,
   "metadata": {},
   "outputs": [],
   "source": [
    "import logging\n",
    "import sys\n",
    "\n",
    "logging.basicConfig(\n",
    "    format=\"%(asctime)s | %(levelname)s : %(message)s\",\n",
    "    level=logging.INFO,\n",
    "    stream=sys.stdout,\n",
    ")"
   ]
  },
  {
   "cell_type": "markdown",
   "metadata": {},
   "source": [
    "### Import the relevant packages\n",
    "\n",
    "This demo uses the Digital Earth Australia Sentinel-2 product, and hence imports the `de_australia_stac_config`.\n",
    "For more information on available configurations, see [configuration_demo.ipynb](configuration_demo.ipynb)"
   ]
  },
  {
   "cell_type": "code",
   "execution_count": null,
   "metadata": {},
   "outputs": [],
   "source": [
    "import matplotlib.pyplot as plt\n",
    "import numpy as np\n",
    "import typing\n",
    "\n",
    "from eo_insights.band_indices import calculate_indices, IndexName\n",
    "from eo_insights.raster_base import RasterBase, QueryParams, LoadParams\n",
    "from eo_insights.stac_configuration import de_australia_stac_config"
   ]
  },
  {
   "cell_type": "markdown",
   "metadata": {},
   "source": [
    "You can check the available collections using the `.list_collections()` method."
   ]
  },
  {
   "cell_type": "code",
   "execution_count": null,
   "metadata": {},
   "outputs": [],
   "source": [
    "de_australia_stac_config.list_collections()"
   ]
  },
  {
   "cell_type": "markdown",
   "metadata": {},
   "source": [
    "## Load data\n",
    "### Set up query and load parameters\n",
    "\n",
    "Date range and bounding box are set as part of the `QueryParams` class.\n",
    "CRS, resolution, and desired bands are set as part of the `LoadParams` class."
   ]
  },
  {
   "cell_type": "code",
   "execution_count": null,
   "metadata": {},
   "outputs": [],
   "source": [
    "# set up AOI and time period\n",
    "query_params = QueryParams(\n",
    "    bbox=(\n",
    "        144.97,\n",
    "        -37.47,\n",
    "        144.95,\n",
    "        -37.45,\n",
    "    ),\n",
    "    start_date=\"2020-01-01\",\n",
    "    end_date=\"2020-06-30\",\n",
    ")\n",
    "# specify bands for calculating NDWI, BSI, MSAVI, and BAEI\n",
    "load_params = LoadParams(\n",
    "    crs=\"EPSG:3577\",\n",
    "    resolution=10,\n",
    "    bands=(\"blue\", \"green\", \"red\", \"nir\", \"swir_1\", \"swir_2\", \"fmask\"),\n",
    ")"
   ]
  },
  {
   "cell_type": "markdown",
   "metadata": {},
   "source": [
    "### Load using RasterBase class"
   ]
  },
  {
   "cell_type": "code",
   "execution_count": null,
   "metadata": {},
   "outputs": [],
   "source": [
    "# query data from DE Aus\n",
    "s2_raster = RasterBase.from_stac_query(\n",
    "    config=de_australia_stac_config,\n",
    "    collections=[\"ga_s2am_ard_3\", \"ga_s2bm_ard_3\"],\n",
    "    query_params=query_params,\n",
    "    load_params=load_params,\n",
    ")"
   ]
  },
  {
   "cell_type": "markdown",
   "metadata": {},
   "source": [
    "#### View the loaded bands"
   ]
  },
  {
   "cell_type": "code",
   "execution_count": null,
   "metadata": {},
   "outputs": [],
   "source": [
    "s2_raster.data"
   ]
  },
  {
   "cell_type": "markdown",
   "metadata": {},
   "source": [
    "#### View the loaded masks"
   ]
  },
  {
   "cell_type": "code",
   "execution_count": null,
   "metadata": {},
   "outputs": [],
   "source": [
    "s2_raster.masks"
   ]
  },
  {
   "cell_type": "markdown",
   "metadata": {},
   "source": [
    "### Apply masks before calculating indices\n",
    "\n",
    "This step applies the default masking parameters that are specified in the relevant collection configuration.\n",
    "Supplying `nodata=np.nan` will overwrite the default nodata value."
   ]
  },
  {
   "cell_type": "code",
   "execution_count": null,
   "metadata": {},
   "outputs": [],
   "source": [
    "s2_raster.apply_mask(\"fmask\", nodata=np.nan)"
   ]
  },
  {
   "cell_type": "markdown",
   "metadata": {},
   "source": [
    "## Calculate band indices required for development detection"
   ]
  },
  {
   "cell_type": "markdown",
   "metadata": {},
   "source": [
    "This section demonstrates how to calculate the MSAVI, BAEI, BSI and NDWI indices using the `calculate_indices` function from the `eo_insights.band_indices` module.\n",
    "\n",
    "Band indices are passed in as lower case strings.\n",
    "You can see the available indices by running the next cell."
   ]
  },
  {
   "cell_type": "code",
   "execution_count": null,
   "metadata": {},
   "outputs": [],
   "source": [
    "available_indices = typing.get_args(IndexName)\n",
    "available_indices"
   ]
  },
  {
   "cell_type": "code",
   "execution_count": null,
   "metadata": {},
   "outputs": [],
   "source": [
    "s2_raster.data = calculate_indices(s2_raster.data, [\"ndwi\", \"bsi\", \"msavi\", \"baei\"])\n",
    "s2_raster.data"
   ]
  },
  {
   "cell_type": "markdown",
   "metadata": {},
   "source": [
    "Once these indices are calculated, the median values for MSAVI, BAEI and BSI are calculated and then the maximum values are calculated for NDWI."
   ]
  },
  {
   "cell_type": "code",
   "execution_count": null,
   "metadata": {},
   "outputs": [],
   "source": [
    "# calc. medians\n",
    "ds_medians = (\n",
    "    s2_raster.data[[\"msavi\", \"baei\", \"bsi\"]]\n",
    "    .median(dim=\"time\")\n",
    "    .assign_coords(time=query_params.end_date)\n",
    ").compute()\n",
    "\n",
    "ds_medians"
   ]
  },
  {
   "cell_type": "code",
   "execution_count": null,
   "metadata": {},
   "outputs": [],
   "source": [
    "# calc. the max NDWI\n",
    "ds_ndwi_max = (\n",
    "    s2_raster.data[\"ndwi\"].max(dim=\"time\").assign_coords(time=query_params.end_date)\n",
    ")\n",
    "\n",
    "ds_ndwi_max"
   ]
  },
  {
   "cell_type": "code",
   "execution_count": null,
   "metadata": {},
   "outputs": [],
   "source": [
    "# combine medians and max into single xarray\n",
    "ds_combined = ds_medians.merge(ds_ndwi_max)"
   ]
  },
  {
   "cell_type": "code",
   "execution_count": null,
   "metadata": {},
   "outputs": [],
   "source": [
    "# mask out all zero pixels\n",
    "ds_masked_nonzero = ds_combined.where(\n",
    "    (ds_combined[\"msavi\"] != 0)\n",
    "    | (ds_combined[\"baei\"] != 0)\n",
    "    | (ds_combined[\"bsi\"] != 0)\n",
    "    | (ds_combined[\"ndwi\"] != 0)\n",
    ").compute()\n",
    "\n",
    "ds_masked_nonzero"
   ]
  },
  {
   "cell_type": "markdown",
   "metadata": {},
   "source": [
    "### Plot indicies "
   ]
  },
  {
   "cell_type": "code",
   "execution_count": null,
   "metadata": {},
   "outputs": [],
   "source": [
    "fig, axs = plt.subplots(2, 2, figsize=(10, 10))\n",
    "\n",
    "ds_masked_nonzero[\"ndwi\"].plot.imshow(ax=axs[0, 0])\n",
    "axs[0, 0].set_title(\"NDWI\")\n",
    "axs[0, 0].set_aspect(\"equal\", adjustable=\"box\")\n",
    "\n",
    "ds_masked_nonzero[\"bsi\"].plot.imshow(ax=axs[0, 1])\n",
    "axs[0, 1].set_title(\"BSI\")\n",
    "axs[0, 1].set_aspect(\"equal\", adjustable=\"box\")\n",
    "\n",
    "ds_masked_nonzero[\"msavi\"].plot.imshow(ax=axs[1, 0])\n",
    "axs[1, 0].set_title(\"MSAVI\")\n",
    "axs[1, 0].set_aspect(\"equal\", adjustable=\"box\")\n",
    "\n",
    "ds_masked_nonzero[\"baei\"].plot.imshow(ax=axs[1, 1])\n",
    "axs[1, 1].set_title(\"BAEI\")\n",
    "axs[1, 1].set_aspect(\"equal\", adjustable=\"box\")\n",
    "\n",
    "plt.tight_layout()\n",
    "plt.show()"
   ]
  }
 ],
 "metadata": {
  "kernelspec": {
   "display_name": "remotesensingtools",
   "language": "python",
   "name": "python3"
  },
  "language_info": {
   "codemirror_mode": {
    "name": "ipython",
    "version": 3
   },
   "file_extension": ".py",
   "mimetype": "text/x-python",
   "name": "python",
   "nbconvert_exporter": "python",
   "pygments_lexer": "ipython3",
   "version": "3.11.0"
  }
 },
 "nbformat": 4,
 "nbformat_minor": 2
}
